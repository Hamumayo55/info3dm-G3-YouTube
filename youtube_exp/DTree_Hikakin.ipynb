{
 "cells": [
  {
   "cell_type": "code",
   "execution_count": 1,
   "metadata": {},
   "outputs": [
    {
     "name": "stdout",
     "output_type": "stream",
     "text": [
      "Requirement already satisfied: janome in /Users/e175769/.pyenv/versions/anaconda3-5.3.0/lib/python3.6/site-packages (0.3.9)\r\n"
     ]
    }
   ],
   "source": [
    "from quilt.data.haradai1262 import YouTuber\n",
    "!pip install janome"
   ]
  },
  {
   "cell_type": "code",
   "execution_count": 2,
   "metadata": {},
   "outputs": [],
   "source": [
    "df = YouTuber.channel_videos.UUUM_videos()\n",
    "df = df[df['cid'] == 'UCZf__ehlCEBPop___sldpBUQ'].reset_index(drop=True)"
   ]
  },
  {
   "cell_type": "code",
   "execution_count": 3,
   "metadata": {},
   "outputs": [],
   "source": [
    "#タイトルの長さを確認\n",
    "df['len_title'] = df['title'].apply(lambda x: len(str(x).replace(' ', '')))"
   ]
  },
  {
   "cell_type": "code",
   "execution_count": 8,
   "metadata": {},
   "outputs": [],
   "source": [
    "df_OneMillion = df[df[\"viewCount\"] >3000000]"
   ]
  },
  {
   "cell_type": "code",
   "execution_count": 10,
   "metadata": {},
   "outputs": [
    {
     "name": "stdout",
     "output_type": "stream",
     "text": [
      "Counter({'！': 197, '゙': 194, 'て': 158, 'た': 116, ' ': 114, '【': 107, '】': 105, 'の': 99, 'み': 76, 'に': 72, 'し': 59, '゚': 51, 'ヒカキン': 50, 'を': 36, 'で': 36, 'たら': 35, 'か': 28, '超': 25, '…': 24, '円': 22, 'www': 22, 'と': 22, 'が': 21, 'へ': 20, '巨大': 18, '食': 17, '万': 16, 'w': 15, '作っ': 15, '大': 14, 'vs': 13, '!?': 13, '、': 11, '買っ': 11, 'セイ': 11, 'キン': 11, '。': 11, 'ない': 10, 'ヒ': 10, 'なっ': 10, 'こと': 10, 'な': 10, '×': 9, '&': 9, '開封': 9, 'ハ': 9, 'まし': 9, 'やっ': 9, '.': 9, 'は': 8, 'すぎ': 8, 'い': 8, '『': 8, '』': 8, 'せ': 8, '゙てみた': 8, '大量': 7, 'ヤハ': 7, '入れ': 7, 'ー': 7, 'カ': 7, '100': 7, 'ヘ': 7, '食べ': 7, '注意': 7, 'から': 7, 'iPhone': 7, 'テ': 7, '個': 7, '？': 7, 'YouTube': 7, '゙で': 6, '動画': 6, '風呂': 6, 'トル': 6, 'ホ': 6, '1': 6, 'まさかの': 6, '閲覧': 6, '悲報': 6, 'フ': 6, 'もの': 6, 'する': 6, 'ラーメン': 6, 'UFO': 6, '大当たり': 6, '自販機': 6, '!?】': 5, '全部': 5, '分': 5, 'お': 5, 'ひ': 5, 'ます': 5, '家': 5, '2': 5, '食い': 5, '高級': 5, '飲ん': 5, 'YouTuber': 5, 'ヤバ': 5, 'スソース': 5, 'なる': 5, '10': 5, '件': 5, '(': 5, '1000': 5, ')': 5, 'シ': 5, 'キャッチャー': 5, '鬼': 5, '・': 4, 'アルミホイル': 4, 'ボール': 4, 'まくっ': 4, '卵': 4, 'って': 4, '゙すぎた': 4, '゙やってきた': 4, 'ール': 4, 'ス': 4, '初めて': 4, '金': 4, '  ': 4, 'Fidget': 4, 'Spinner': 4, '激辛': 4, 'さ': 4, '-': 4, 'かけ': 4, 'こ': 4, 'ル': 4, 'コ': 4, 'リ': 4, 'バトル': 4, '回': 4, '２': 4, 'ふ': 4, 'ついに': 4, 'よ': 4, '箱': 4, '水': 4, 'ク': 4, 'ト': 4, 'ートホ': 4, 'EDGE': 4, '最大': 3, '買い物': 3, '鉄': 3, '球': 3, 'ニンテント': 3, '種類': 3, 'う': 3, 'ん': 3, '事故': 3, 'れる': 3, '結果': 3, '一': 3, 'マスオ': 3, '当てる': 3, 'タ': 3, '逃走': 3, '中': 3, 'ハント': 3, 'スヒ': 3, 'ナー': 3, '時': 3, '新居': 3, '辛': 3, '＆': 3, '感動': 3, 'すき': 3, 'そう': 3, '暴露': 3, '本': 3, 'レセ': 3, 'ント': 3, '名': 3, '付き': 3, '爆笑': 3, 'れ': 3, '大変': 3, '海': 3, '入っ': 3, '･': 3, '味': 3, 'ぜ': 3, '実験': 3, 'スーハ': 3, 'ver': 3, '事態': 3, '麺': 3, 'らしい': 3, '年': 3, '遊ん': 3, 'てる': 3, '３': 3, 'チャレンシ': 3, '世界一': 3, '型': 3, 'かき氷': 3, 'も': 3, 'だ': 3, 'まね': 3, 'サ': 3, 'ロホ': 3, '5': 3, 'ム': 3, '紹介': 3, 'アイス': 3, '一気に': 3, '゙たら': 3, 'ラ': 3, 'カップ': 3, '焼': 3, 'そば': 3, '超え': 2, '人生': 2, 'ルイ': 2, 'FIFA': 2, 'W': 2, '杯': 2, 'コラボ': 2, '2018': 2, '50': 2, ',': 2, '000': 2, '玉': 2, '購入': 2, 'm': 2, 'ハンマー': 2, '出来': 2, 'イ': 2, '全': 2, '゙まくってみた': 2, 'Nintendo': 2, 'ロボット': 2, 'チ': 2, '帰れ': 2, 'ませ': 2, 'フィッシャース': 2, 'まで': 2, '寝': 2, '放送': 2, '発狂': 2, 'もはや': 2, '日間': 2, 'カヒ': 2, '400': 2, 'ユーチューハ': 2, 'ーチッフ': 2, '旅': 2, '行っ': 2, '゙を': 2, '流': 2, 'ち': 2, 'け': 2, '40': 2, '24': 2, 'K': 2, '裏側': 2, '撮影': 2, '味覚': 2, '倍': 2, 'コンヒ': 2, 'ニ': 2, 'ライ': 2, '本気': 2, 'UUUM': 2, 'U': 2, 'コーラ': 2, '負け': 2, 'メイキング': 2, 'カッフ': 2, '謎': 2, '肉': 2, 'だっ': 2, '゙て': 2, '実は': 2, '人': 2, '愚痴': 2, 'キフ': 2, 'お金': 2, '自分': 2, '開催': 2, 'ほ': 2, '300': 2, 'ワイン': 2, '当て': 2, 'フィッシャーズ': 2, 'ゲーム': 2, '何': 2, '取れ': 2, '!?【': 2, '最強': 2, '民族': 2, 'ロッテリア': 2, 'たこ焼き': 2, '帰っ': 2, '喧嘩': 2, '売ら': 2, '日': 2, 'マヨ': 2, '地獄': 2, '舐め': 2, '〜': 2, '背': 2, '脂': 2, 'き': 2, 'つ': 2, 'だけ': 2, '編': 2, '届い': 2, '泡': 2, '噴射': 2, '５': 2, '惨事': 2, '器': 2, 'ーム': 2, 'やん': 2, 'ュー': 2, 'PDS': 2, '猫': 2, '゙りの': 2, '生まれ': 2, '7': 2, '札': 2, '゙る': 2, '診断': 2, '4': 2, '放置': 2, '風船': 2, '全力': 2, 'カス': 2, 'スイカ': 2, '磁石': 2, 'だら': 2, '真似': 2, 'ね': 2, '機': 2, 'ッフ': 2, 'セ': 2, '生き': 2, '除': 2, '当たる': 2, 'コカ・コーラ': 2, '白': 2, '第': 2, 'ッハ': 2, '対決': 2, 'テーマソンク': 2, 'チョコホ': 2, '6': 2, 's': 2, 'メントスコーラ': 2, '試し': 2, 'ミ': 2, '探偵': 2, 'Pepper': 2, 'ット': 2, 'フルート': 2, 'ビート': 2, 'ボックス': 2, '使っ': 2, 'ックス': 2, 'テーマ': 2, 'ソング': 2, '好き': 2, '曲': 2, '出来る': 2, '鼻毛': 2, 'レ': 2, '度目': 2, 'チャレンジ': 2, '火': 2, '恐怖': 2, 'ATM': 2, '口': 2, 'ックスハ': 2, '「': 2, '」': 2, 'え': 2, 'もん': 2, 'ねらう': 2, 'ひよこ': 2, '゙してみた': 2, '毛': 2, '簡単': 2, 'チョコ': 2, 'とんこつ': 2, '醤油': 2, 'ケ': 2, 'レット': 2, 'ーン': 2, 'スパイス': 2, 'チキン': 2, '氷': 2, 'ウンコ': 2, '3000': 1, 'ヴィトン': 1, '商品': 1, 'ロシア': 1, 'World': 1, 'Cup': 1, 'Russia': 1, 'メルカリ': 1, 'アルミ': 1, '゙いのあった': 1, '250': 1, '叩き': 1, 'ピカピカ': 1, '椀': 1, '転がす': 1, 'イヤハ': 1, '叫': 1, '出す': 1, 'ーラホ': 1, '遊': 1, 'Labo': 1, 'キット': 1, 'バラエティキット': 1, '震度': 1, '７': 1, '体験': 1, '地震': 1, '備えよ': 1, '1400': 1, 'ウ': 1, 'ィトン': 1, 'シュフ': 1, 'リーム': 1, 'トランク': 1, 'スケホ': 1, 'Louis': 1, 'Vuitton': 1, 'Supreme': 1, 'Trunk': 1, 'セイキンシ': 1, 'ュニア': 1, '誕生': 1, '゙おじさんになりました': 1, 'ポン': 1, 'ちゃん': 1, '出産': 1, '弁当': 1, '゙れるまで': 1, '語り': 1, 'まくる': 1, '胃腸': 1, '炎': 1, 'ウンチ': 1, 'もらし': 1, 'たく': 1, '朝': 1, 'なか': 1, '゙ら': 1, 'ロ': 1, 'ロハ': 1, 'フィッシャーズコラボ': 1, '30': 1, '我': 1, '犬': 1, 'AIBO': 1, '鏡': 1, '叩い': 1, 'イチゴ': 1, 'タワー': 1, '粒': 1, 'レアヒカキンカード': 1, '引ける': 1, '泊': 1, '16': 1, 'ホテル': 1, '愛媛': 1, '松山': 1, 'はじめ': 1, 'しゃ': 1, 'ちょ': 1, 'おしっこ': 1, '尿': 1, 'ヒカキンレアカート': 1, 'チップス': 1, '160': 1, 'PC': 1, 'フルスペック': 1, 'iMac': 1, 'Pro': 1, 'キター': 1, '論': 1, 'カワウソ': 1, '赤ちゃん': 1, '抱っこ': 1, 'カワイイ': 1, 'ウン': 1, 'タウン': 1, '浜田': 1, 'さん': 1, 'ひっ': 1, '゚たかれました': 1, '本音': 1, 'ハシコ': 1, '酒': 1, '家族': 1, '200': 1, 'おせ': 1, 'ごちそう': 1, '親孝行': 1, 'ハンター': 1, '逃': 1, '賞金': 1, '120': 1, '純金': 1, '延': 1, '棒': 1, '【$': 1, 'M': 1, 'ステ': 1, '来': 1, 'テレヒ': 1, '号泣': 1, 'その': 1, '映像': 1, 'こちら': 1, '２つ': 1, '目': 1, '借り': 1, '終了': 1, 'ヌードル': 1, '108': 1, '頭': 1, 'おかしく': 1, '爆買': 1, 'ート・': 1, '日常': 1, '幽霊': 1, '触っ': 1, 'ちゃ': 1, '心霊': 1, '現象': 1, '出': 1, '東海': 1, 'オンエア': 1, '暴れ': 1, '加入': 1, 'FES': 1, '2017': 1, 'X': 1, '8': 1, '大切': 1, '無くし': 1, '草なぎ': 1, '剛': 1, '気': 1, '飲み': 1, '1200': 1, '日本一': 1, '高い': 1, '゙はん': 1, 'TKG': 1, '雑草': 1, '/': 1, 'ヌート': 1, '゙たらもはや': 1, '土': 1, 'ークラシックミニスーハ': 1, 'ーファミコン': 1, '死に': 1, '娘': 1, '外': 1, '歩け': 1, 'なく': 1, 'SEKAI': 1, 'NO': 1, 'OWARI': 1, 'セカオワハウス': 1, '潜入': 1, 'セッション': 1, 'RAIN': 1, '事情': 1, '握手': 1, '会': 1, '暴走': 1, '名古屋': 1, '500': 1, '発': 1, '花火': 1, '大会': 1, '゙くたち': 1, '休み': 1, '3': 1, 'られる': 1, '格付け': 1, 'クレーン': 1, '週刊': 1, '誌': 1, '撮ら': 1, '企画': 1, 'ースイッチ': 1, 'スフ': 1, 'ラトゥーン': 1, 'セット': 1, '台': 1, '様': 1, 'AI': 1, '知能': 1, 'いる': 1, 'COZMO': 1, '1500': 1, '助け': 1, '兄ちゃん': 1, 'ハンドスピナー': 1, 'スマホリング': 1, '意味': 1, '不明': 1, '決定': 1, '頂上': 1, '決戦': 1, 'ニセ': 1, '事件': 1, '発生': 1, '同意': 1, '書': 1, 'サイン': 1, 'られ': 1, '無言': 1, '大阪': 1, '行': 1, '゙てすぐ': 1, 'くる': 1, 'Youtuber': 1, '゙ゃないんです': 1, '寿司': 1, '屋': 1, '◯◯◯': 1, '店': 1, '下さい': 1, '言っ': 1, '沖縄': 1, '北海道': 1, 'みそ': 1, '旅行': 1, 'BIG': 1, 'わさび': 1, 'どころ': 1, 'じゃ': 1, '◯◯': 1, '梅干し': 1, '゙てみたら': 1, '電動': 1, 'ドリル': 1, '高速': 1, '回転': 1, 'アメ': 1, 'どれ': 1, '一番': 1, '長く': 1, '回る': 1, '選手権': 1, '色んな': 1, 'ろ': 1, 'す': 1, '混ぜ': 1, '密着': 1, 'アスレチック': 1, '襲撃': 1, '限定': 1, 'ルカ': 1, 'リチョコ': 1, 'ヤンク': 1, 'MAX': 1, '予想': 1, '裏切っ': 1, 'や': 1, 'がっ': 1, '宝石': 1, 'そっくり': 1, 'あめ': 1, 'マシ': 1, 'スコ': 1, '゙かった': 1, '任天堂': 1, 'スイッチ': 1, '盛大': 1, 'やらかす': 1, 'Switch': 1, '玄関': 1, 'マジ': 1, 'ヤバイ': 1, 'ロシアンチョコレート': 1, '゙た': 1, '質問': 1, 'コーナー': 1, '#': 1, '゙っちゃけ': 1, '回答': 1, 'ギリギリ': 1, '発言': 1, 'ちまっ': 1, 'アップル': 1, '初': 1, '売り': 1, '同時': 1, '発射': 1, '盗聴': 1, 'ドッキリ': 1, 'しかけ': 1, '空気': 1, 'ーマリオチョコエック': 1, '゙でまさかの': 1, 'シークレットレア': 1, 'ゲーセン': 1, 'クレーンケ': 1, '゙お': 1, '菓子': 1, 'とり': 1, '氏': 1, '色々': 1, '勘違い': 1, 'DS': 1, 'ポケモンサン': 1, 'ムーン': 1, 'しよ': 1, '規模': 1, 'とんでも': 1, '復刻': 1, '版': 1, 'ケモンカート': 1, '買い': 1, 'ニンテンドークラシックミニ': 1, 'ファミリー': 1, 'コンピュータ': 1, '遊ぶ': 1, '27': 1, '歳': 1, 'レン': 1, 'チン': 1, '生': 1, 'うまく': 1, 'ラッキーボックス': 1, 'BOX': 1, 'ポップ': 1, '半': 1, '再会': 1, '♪': 1, 'PSVR': 1, 'サメ': 1, '襲わ': 1, '心臓': 1, '止まり': 1, 'プレイステーション': 1, 'VR': 1, 'タマコ': 1, '温め': 1, 'なんか': 1, 'アメリカ': 1, '拳銃': 1, 'メーカー': 1, 'ボールペン': 1, '危ない': 1, 'ジェット': 1, 'ブラック': 1, '後': 1, '即': 1, '水没': 1, '１': 1, '封印': 1, '揃え': 1, '開か': 1, 'ルービックキューブ': 1, 'アクンダ': 1, '謝罪': 1, 'あけ': 1, '゙の': 1, '部分': 1, '間違え': 1, '最近': 1, 'キレ': 1, '話': 1, '誰': 1, '似': 1, 'くれる': 1, 'カメラアフ': 1, 'ムズ': 1, '知恵の輪': 1, 'はずし': 1, 'キャスト': 1, 'マーブル': 1, '息': 1, '止め': 1, '11': 1, '秒': 1, '突破': 1, '365': 1, 'グミ': 1, 'ーカッフ': 1, '゚を': 1, '包丁': 1, '真っ': 1, '二つ': 1, 'やすい': 1, '均': 1, 'スライム': 1, '膨らま': 1, '臭い': 1, '食べ物': 1, 'さらに': 1, '腐ら': 1, 'シュールストレミング': 1, 'ラッキー': 1, 'ハート': 1, 'ハーゲンダッツ': 1, '幸せ': 1, 'ハーゲンハート': 1, 'ある': 1, 'シロップ': 1, 'そのまま': 1, '凍ら': 1, 'ラスホ': 1, 'ぶっ': 1, '倒す': 1, '黄色': 1, '早': 1, '強力': 1, '2160': 1, 'スゴ': 1, '冷却': 1, 'スプレージェル': 1, 'ふわふわ': 1, 'とろ': 1, '雪': 1, 'レベル': 1, '四角い': 1, '愛': 1, '悲しみ': 1, '物語': 1, '入り': 1, 'ロック': 1, 'えん': 1, '゚つを': 1, '刺し': 1, '漏れ': 1, 'メタ': 1, 'イン': 1, '入れる': 1, 'みたい': 1, '動き出す': 1, '発砲': 1, 'スチロール': 1, '光': 1, '液': 1, 'つける': 1, 'ドロドロ': 1, 'ながら': 1, 'インスタント': 1, '当たり': 1, 'まて': 1, 'デスソース': 1, 'ンテ': 1, 'ィンク': 1, 'マシンレット': 1, '粉々': 1, 'リアルキングスライム': 1, 'ネコ': 1, 'プロジェクト': 1, 'ガチャ': 1, '引い': 1, 'もらっ': 1, 'スマホ': 1, '顕微鏡': 1, '頭皮': 1, '見': 1, '゙え': 1, 'PS': 1, 'Vita': 1, '千': 1, '歩く': 1, 'うん': 1, '君': 1, '合唱': 1, '電話': 1, '゙かかってきた': 1, 'ーヒ': 1, 'アノ': 1, '弾い': 1, 'pepper': 1, '家中': 1, '掃除': 1, '罰': 1, 'カホ': 1, 'ンケ': 1, 'これ': 1, 'オモロイ': 1, '百味': 1, 'ーンス': 1, '゙をかけた': 1, 'ャンケン': 1, 'ゲロ': 1, '鼻くそ': 1, '食べる': 1, 'どっち': 1, '紅白': 1, '忘年会': 1, '2015': 1, 'すす': 1, 'クシ': 1, 'エン': 1, '狙う': 1, '消し': 1, 'クギ': 1, '落とし': 1, '進化': 1, 'Z': 1, \"'\": 1, 'us': 1, 'G': 1, 'ゼウスジー': 1, '強化': 1, 'ガラス': 1, '＋': 1, '水鉄砲': 1, '威力': 1, '上がる': 1, '引っ越し': 1, '完了': 1, 'カラオケ': 1, '採点': 1, '目指せ': 1, '90': 1, '点': 1, 'ーホ': 1, 'くじ': 1, '虫': 1, '゙ちまった': 1, '毒': 1, 'クモ': 1, 'ストハ': 1, 'ストレート': 1, 'アイロン': 1, 'イスチェンシ': 1, 'ャー': 1, '声': 1, '変え': 1, 'リヘ': 1, 'ンシ': 1, 'コナン': 1, '再現': 1, 'ペッパー': 1, 'ゃべってみた': 1, '青': 1, 'チャカ': 1, 'チャ': 1, 'カフ': 1, 'セル': 1, 'コンタクト': 1, '理由': 1, '自動': 1, '販売': 1, '冷蔵庫': 1, '吹い': 1, '世界': 1, 'ヘヒ': 1, '隠れ': 1, '身': 1, '術': 1, '゙さん': 1, '腕相撲': 1, 'チマッチ': 1, '講座': 1, 'ボー': 1, 'やり方': 1, 'Daichi': 1, 'MV': 1, '／': 1, 'リアン': 1, '熱唱': 1, 'ヒカキンオススメ': 1, 'AWA': 1, 'りん': 1, '充電': 1, '聞い': 1, '抜い': 1, '脱毛': 1, 'ブラジリアンワックス': 1, 'GOSSO': 1, '負傷': 1, 'リフティンク': 1, '目指し': 1, '悲劇': 1, '液体': 1, '゙みたらすごいことになった': 1, '卓上': 1, 'ンチンク': 1, 'マシン': 1, '殴り': 1, 'Stress': 1, 'Buster': 1, 'ユーチューバー': 1, 'パピプペパピコゲーム': 1, '海賊': 1, '中身': 1, 'なん': 1, '昔': 1, '写真': 1, '公開': 1, 'ワンタ': 1, 'ーコア': 1, 'TVCM': 1, 'ロテ': 1, 'ィ': 1, '字幕': 1, '実況': 1, 'ロシアンルーレット': 1, '飴': 1, 'ハス': 1, '゙れるのはどっち': 1, 'ネタハ': 1, '来い': 1, 'あぶっ': 1, '割れ': 1, '本当': 1, 'チャーリーゲーム': 1, 'チャーリーチャーリーチャレンジ': 1, '耳': 1, 'くそ': 1, '吸引': 1, 'ポケットイヤークリーナー': 1, '自宅': 1, 'タッチパネル': 1, 'バンク': 1, '麻酔': 1, '゙しびれた': 1, 'アイフ': 1, '二': 1, '重': 1, 'エアカ': 1, 'ン': 1, '的': 1, '撃っ': 1, 'ートイーク': 1, '死': 1, 'ソース': 1, 'エライ': 1, 'はし': 1, '゙めしゃちょ': 1, 'ランニンク': 1, 'マン': 1, '三': 1, '代目': 1, 'J': 1, 'Soul': 1, 'Brothers': 1, 'from': 1, 'EXILE': 1, 'TRIBE': 1, ':': 1, 'R': 1, 'Y': 1, 'S': 1, 'E': 1, 'I': 1, 'シチュー': 1, 'LUSH': 1, 'スホ': 1, '辛い': 1, 'ウルトラテ': 1, 'くま': 1, 'モン': 1, '人形': 1, 'うんこ': 1, '太': 1, 'コスフ': 1, '会っ': 1, '夢': 1, '必殺': 1, '技': 1, '見せ': 1, '封': 1, '゙れるか': 1, 'kg': 1, 'ャンホ': 1, '餃子': 1, '木下': 1, 'ゆう': 1, '入浴': 1, '剤': 1, '袋': 1, '乾電池': 1, '包み': 1, '紙': 1, 'おこし': 1, 'ムテーフ': 1, 'フォーム': 1, 'すね': 1, '綺麗': 1, '抜ける': 1, '゙っち': 1, 'フクロウ': 1, '不思議': 1, 'サフ': 1, 'ぶり': 1, 'テレビ': 1, 'やってき': 1, '東芝': 1, 'REGZA': 1, '炊飯': 1, 'ケーキ': 1, 'アフ': 1, 'たり': 1, '驚き': 1, 'やり': 1, 'やつ': 1, '狙っ': 1, '多い': 1, 'ーセン': 1, 'アリアナ・ク': 1, 'ランテ': 1, '゙さんに': 1, 'コラホ': 1, 'Ariana': 1, 'Grande': 1, 'Hikakin': 1, 'マイン': 1, 'クラフト': 1, 'イヤ': 1, 'ストーン': 1, 'ローソン': 1, 'カコ': 1, '黄金': 1, 'チキンパーティーキャンヘ': 1, '緊急': 1, '火事': 1, '死ぬ': 1, 'ビビっ': 1, '無限': 1, 'ウタ': 1, 'やらかし': 1, 'いく': 1, 'HIKAKIN': 1, 'Long': 1, 'Plus': 1, '128': 1, 'GB': 1, 'ールト': 1, '゙がやってきた': 1, '比較': 1, '鼻': 1, '゙いしてみたら': 1, 'エラい': 1, '事': 1, 'ハフ': 1, 'ニンク': 1, '牛乳': 1, '混': 1, '恐ろしい': 1, 'そして': 1, '危険': 1, '日焼け': 1, '背中': 1, 'ぬっ': 1, '湘南': 1, 'ストレス': 1, '解消': 1, 'ッス': 1, '゙してくださいな': 1, '投': 1, '゙つけてみた': 1, 'uuum': 1, 'みんな': 1, 'バーベキュー': 1, 'ドラゴン': 1, 'スカウター': 1, 'ベジータ': 1, '変身': 1, '三ツ矢': 1, 'サイタ': 1, '実': 1, 'カルボナーラ': 1, 'かまた': 1, 'ま': 1, '作り方': 1, '漬け': 1, 'ロッテ': 1, '爽': 1, 'キャンヘ': 1, 'ワンピース': 1, 'サンジ': 1, 'クソ': 1, 'まずい': 1, 'スープ': 1, '突撃': 1, '不審': 1, '者': 1, '級': 1, 'ハンバーガー': 1, '進撃': 1, '巨人': 1, 'マヨネーズ': 1, '飯': 1, 'さみしい': 1, 'クリスマス': 1, '兄弟': 1, '盛り': 1, '上': 1, '゙ってみた': 1, '噂': 1, 'みかん': 1, 'ューサー': 1, '゙みかん': 1, 'ュース': 1, 'チャリ': 1, '走': 1, 'DX×': 1, 'プレゼント': 1, 'グランプリ': 1, 'ーニャカウタ': 1, 'これぞ': 1, '男': 1, 'バーニャカウダ': 1, '゙みた': 1, 'Big': 1, 'RedBull': 1, '血': 1, '゙らけ': 1, '石けん': 1, '引越し': 1, 'さようなら': 1, '部屋': 1, 'フロース': 1, 'ンコーラ': 1, 'テトチッフ': 1, 'フライト': 1, 'テト': 1, 'ボイパ': 1, '方法': 1, '死にかけ': 1, '...': 1, 'Death': 1, 'Sauce': 1, 'Challenge': 1, 'モアイ': 1, '作れ': 1, 'ちゃう': 1, 'トレー': 1, 'コアラ': 1, 'マーチ': 1, '振り': 1, '力': 1, 'ウコン': 1, '゙ゃないよ': 1, 'ルフィ': 1, '好物': 1, '骨': 1, 'つき': 1, 'ース': 1})\n"
     ]
    }
   ],
   "source": [
    "#形態素解析\n",
    "from janome.tokenizer import Tokenizer\n",
    "import collections\n",
    "\n",
    "list_tword = []\n",
    "t = Tokenizer()\n",
    "for i in range(len(df_OneMillion)):\n",
    "    title = df_OneMillion.iloc[i,1]\n",
    "    for token in t.tokenize(title):\n",
    "        list_tword.append((token.surface))\n",
    "        c = collections.Counter(list_tword)\n",
    "print(c)"
   ]
  },
  {
   "cell_type": "code",
   "execution_count": 11,
   "metadata": {},
   "outputs": [],
   "source": [
    "#[]が含まれるなら1,含まれないなら0\n",
    "\n",
    "buzz_word_Braces = [\"【\",\"】\",]\n",
    "for i in buzz_word_Braces:\n",
    "    df.loc[df['title'].str.contains(i),\"title_encode_Braces\"] = 1\n",
    "df.loc[df['title_encode_Braces'].isnull(),\"title_encode_Braces\"] = 0"
   ]
  },
  {
   "cell_type": "code",
   "execution_count": 12,
   "metadata": {},
   "outputs": [],
   "source": [
    "#バズりやすい言葉があれば1,それ以外を0\n",
    "\n",
    "buzz_word = [\"vs\",\"www\",\"巨大\",\"大量\"]\n",
    "for n in buzz_word:\n",
    "    df.loc[df['title'].str.contains(n),\"title_encode_word\"] = 1\n",
    "df.loc[df['title_encode_word'].isnull(),\"title_encode_word\"] = 0"
   ]
  },
  {
   "cell_type": "code",
   "execution_count": 13,
   "metadata": {},
   "outputs": [
    {
     "data": {
      "text/plain": [
       "count    501.000000\n",
       "mean      28.856287\n",
       "std       10.370116\n",
       "min        8.000000\n",
       "25%       22.000000\n",
       "50%       28.000000\n",
       "75%       34.000000\n",
       "max       87.000000\n",
       "Name: len_title, dtype: float64"
      ]
     },
     "execution_count": 13,
     "metadata": {},
     "output_type": "execute_result"
    }
   ],
   "source": [
    "df[\"len_title\"].describe()"
   ]
  },
  {
   "cell_type": "code",
   "execution_count": 14,
   "metadata": {},
   "outputs": [],
   "source": [
    "df.loc[df['len_title'] > 28,\"title_encode_len\"] = 2\n",
    "df.loc[df['len_title'] < 28 ,\"title_encode_len\"] = 1\n",
    "df.loc[df['len_title'] < 22,\"title_encode_len\"] = 0"
   ]
  },
  {
   "cell_type": "code",
   "execution_count": 15,
   "metadata": {},
   "outputs": [],
   "source": [
    "#100万再生なら1,違うなら0とする\n",
    "df.loc[df['viewCount'] > 3000000,\"view_encode\"] = 1\n",
    "df.loc[df['view_encode'].isnull(),\"view_encode\"] = 0"
   ]
  },
  {
   "cell_type": "code",
   "execution_count": 17,
   "metadata": {},
   "outputs": [],
   "source": [
    "#データフレームを整える\n",
    "df2 = df[['title_encode_Braces','title_encode_word','title_encode_len']]\n",
    "df2 = df2.fillna(0)"
   ]
  },
  {
   "cell_type": "code",
   "execution_count": 18,
   "metadata": {},
   "outputs": [],
   "source": [
    "#モデルの構築\n",
    "import numpy as np\n",
    "import numpy.random as random\n",
    "import scipy as sp\n",
    "from sklearn.model_selection import train_test_split\n",
    "from sklearn.metrics import confusion_matrix\n",
    "\n",
    "X = df2\n",
    "Y = df['view_encode']\n",
    "X_train, X_test, y_train, y_test = train_test_split(X, Y, random_state=0)"
   ]
  },
  {
   "cell_type": "code",
   "execution_count": 19,
   "metadata": {},
   "outputs": [
    {
     "name": "stdout",
     "output_type": "stream",
     "text": [
      "train score: 0.6026666666666667\n",
      "test score: 0.5\n"
     ]
    }
   ],
   "source": [
    "#決定木\n",
    "\n",
    "from sklearn.tree import DecisionTreeClassifier\n",
    "from sklearn import tree\n",
    "\n",
    "# 決定木インスタンス(木の深さ3)\n",
    "model = DecisionTreeClassifier(max_depth=8)\n",
    "#学習モデル構築。引数に訓練データの特徴量と、それに対応したラベル\n",
    "model.fit(X_train, y_train)\n",
    "predicted = model.predict(X_test)\n",
    "\n",
    "# .scoreで正解率を算出。\n",
    "print(\"train score:\",model.score(X_train,y_train))\n",
    "print(\"test score:\",model.score(X_test,y_test))"
   ]
  },
  {
   "cell_type": "code",
   "execution_count": 20,
   "metadata": {},
   "outputs": [
    {
     "data": {
      "text/plain": [
       "array([[34, 39],\n",
       "       [24, 29]])"
      ]
     },
     "execution_count": 20,
     "metadata": {},
     "output_type": "execute_result"
    }
   ],
   "source": [
    "#混同行列の作成\n",
    "plot_cm = confusion_matrix(predicted,y_test)\n",
    "plot_cm"
   ]
  },
  {
   "cell_type": "code",
   "execution_count": 22,
   "metadata": {},
   "outputs": [
    {
     "data": {
      "text/plain": [
       "<matplotlib.axes._subplots.AxesSubplot at 0x136abd1d0>"
      ]
     },
     "execution_count": 22,
     "metadata": {},
     "output_type": "execute_result"
    },
    {
     "data": {
      "image/png": "[encoded data removed]",
      "text/plain": [
       "<Figure size 432x288 with 2 Axes>"
      ]
     },
     "metadata": {
      "needs_background": "light"
     },
     "output_type": "display_data"
    }
   ],
   "source": [
    "#混同行列の可視化\n",
    "from sklearn.metrics import confusion_matrix\n",
    "import seaborn as sns\n",
    "import matplotlib.pyplot as plt\n",
    "\n",
    "sns.heatmap(plot_cm, annot=True, cmap='Reds')"
   ]
  },
  {
   "cell_type": "code",
   "execution_count": null,
   "metadata": {},
   "outputs": [],
   "source": []
  }
 ],
 "metadata": {
  "kernelspec": {
   "display_name": "Python 3",
   "language": "python",
   "name": "python3"
  },
  "language_info": {
   "codemirror_mode": {
    "name": "ipython",
    "version": 3
   },
   "file_extension": ".py",
   "mimetype": "text/x-python",
   "name": "python",
   "nbconvert_exporter": "python",
   "pygments_lexer": "ipython3",
   "version": "3.6.6"
  }
 },
 "nbformat": 4,
 "nbformat_minor": 2
}
