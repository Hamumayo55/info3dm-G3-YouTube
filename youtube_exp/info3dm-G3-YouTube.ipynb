{
 "cells": [
  {
   "cell_type": "code",
   "execution_count": 2,
   "metadata": {},
   "outputs": [],
   "source": [
    "import pandas as pd\n",
    "from pandas import Series, DataFrame\n",
    "import codecs"
   ]
  },
  {
   "cell_type": "code",
   "execution_count": 3,
   "metadata": {},
   "outputs": [],
   "source": [
    "#Video_idの被りを省く\n",
    "with codecs.open(\"JPvideos.csv\", \"r\", \"UTF-8\", \"ignore\") as file:\n",
    "    df =  pd.read_csv(file)\n",
    "    df.drop_duplicates(subset='video_id', keep='last', inplace=True)\n",
    "#df"
   ]
  },
  {
   "cell_type": "code",
   "execution_count": 4,
   "metadata": {
    "scrolled": false
   },
   "outputs": [],
   "source": [
    "#必要のないと思われるCategoryID\n",
    "remove_CategoryID = [3,4,5,6,7,8,9,11,12,13,14,16,28]\n",
    "for n in remove_CategoryID:\n",
    "    df = df[df[\"category_id\"]!=n]\n",
    "#df"
   ]
  },
  {
   "cell_type": "code",
   "execution_count": 5,
   "metadata": {},
   "outputs": [],
   "source": [
    "#df_contains = df[df['title'].str.contains('l')]"
   ]
  },
  {
   "cell_type": "code",
   "execution_count": 6,
   "metadata": {},
   "outputs": [],
   "source": [
    "#[]が含まれるなら1,含まれないなら0\n",
    "\n",
    "buzz_word_Braces = [\"【\",\"】\"]\n",
    "for i in buzz_word_Braces:\n",
    "    df.loc[df['title'].str.contains(i),\"title_encode_Braces\"] = 1\n",
    "df.loc[df['title_encode_Braces'].isnull(),\"title_encode_Braces\"] = 0"
   ]
  },
  {
   "cell_type": "code",
   "execution_count": 7,
   "metadata": {},
   "outputs": [],
   "source": [
    "#バズりやすい言葉があれば1,それ以外を0\n",
    "\n",
    "buzz_word = [\"神回\",\"悲報\",\"www\",\"衝撃\",\"危険\",\"危機\"]\n",
    "for n in buzz_word:\n",
    "    df.loc[df['title'].str.contains(n),\"title_encode_word\"] = 1\n",
    "df.loc[df['title_encode_word'].isnull(),\"title_encode_word\"] = 0"
   ]
  },
  {
   "cell_type": "code",
   "execution_count": 8,
   "metadata": {},
   "outputs": [
    {
     "data": {
      "text/plain": [
       "count    12824.000000\n",
       "mean        36.046241\n",
       "std         17.125584\n",
       "min          2.000000\n",
       "25%         24.000000\n",
       "50%         32.000000\n",
       "75%         45.000000\n",
       "max        100.000000\n",
       "Name: len_title, dtype: float64"
      ]
     },
     "execution_count": 8,
     "metadata": {},
     "output_type": "execute_result"
    }
   ],
   "source": [
    "#メッセージの長さ\n",
    "df['len_title'] = df['title'].apply(lambda x: len(str(x).replace(' ', '')))\n",
    "df[\"len_title\"].describe()"
   ]
  },
  {
   "cell_type": "code",
   "execution_count": 9,
   "metadata": {},
   "outputs": [],
   "source": [
    "df.loc[df['len_title'] > 45,\"title_encode_len\"] = 2\n",
    "df.loc[df['len_title'] < 45 ,\"title_encode_len\"] = 1\n",
    "df.loc[df['len_title'] < 24,\"title_encode_len\"] = 0"
   ]
  },
  {
   "cell_type": "code",
   "execution_count": 10,
   "metadata": {},
   "outputs": [],
   "source": [
    "#100万再生なら1,違うなら0とする\n",
    "df.loc[df['views'] > 1000000,\"view_encode\"] = 1\n",
    "df.loc[df['view_encode'].isnull(),\"view_encode\"] = 0\n",
    "#df.head()"
   ]
  },
  {
   "cell_type": "code",
   "execution_count": 11,
   "metadata": {},
   "outputs": [],
   "source": [
    "#データフレームを整える\n",
    "df2 = df[['title_encode_Braces','title_encode_word','title_encode_len']]\n",
    "df2 = df2.fillna(0)"
   ]
  },
  {
   "cell_type": "code",
   "execution_count": 12,
   "metadata": {},
   "outputs": [
    {
     "data": {
      "text/html": [
       "<div>\n",
       "<style scoped>\n",
       "    .dataframe tbody tr th:only-of-type {\n",
       "        vertical-align: middle;\n",
       "    }\n",
       "\n",
       "    .dataframe tbody tr th {\n",
       "        vertical-align: top;\n",
       "    }\n",
       "\n",
       "    .dataframe thead th {\n",
       "        text-align: right;\n",
       "    }\n",
       "</style>\n",
       "<table border=\"1\" class=\"dataframe\">\n",
       "  <thead>\n",
       "    <tr style=\"text-align: right;\">\n",
       "      <th></th>\n",
       "      <th>title_encode_Braces</th>\n",
       "      <th>title_encode_word</th>\n",
       "      <th>title_encode_len</th>\n",
       "      <th>view_encode</th>\n",
       "    </tr>\n",
       "  </thead>\n",
       "  <tbody>\n",
       "    <tr>\n",
       "      <th>count</th>\n",
       "      <td>12824.000000</td>\n",
       "      <td>12824.000000</td>\n",
       "      <td>12824.000000</td>\n",
       "      <td>12824.000000</td>\n",
       "    </tr>\n",
       "    <tr>\n",
       "      <th>mean</th>\n",
       "      <td>0.357923</td>\n",
       "      <td>0.024485</td>\n",
       "      <td>0.988771</td>\n",
       "      <td>0.041953</td>\n",
       "    </tr>\n",
       "    <tr>\n",
       "      <th>std</th>\n",
       "      <td>0.479408</td>\n",
       "      <td>0.154556</td>\n",
       "      <td>0.703174</td>\n",
       "      <td>0.200489</td>\n",
       "    </tr>\n",
       "    <tr>\n",
       "      <th>min</th>\n",
       "      <td>0.000000</td>\n",
       "      <td>0.000000</td>\n",
       "      <td>0.000000</td>\n",
       "      <td>0.000000</td>\n",
       "    </tr>\n",
       "    <tr>\n",
       "      <th>25%</th>\n",
       "      <td>0.000000</td>\n",
       "      <td>0.000000</td>\n",
       "      <td>0.000000</td>\n",
       "      <td>0.000000</td>\n",
       "    </tr>\n",
       "    <tr>\n",
       "      <th>50%</th>\n",
       "      <td>0.000000</td>\n",
       "      <td>0.000000</td>\n",
       "      <td>1.000000</td>\n",
       "      <td>0.000000</td>\n",
       "    </tr>\n",
       "    <tr>\n",
       "      <th>75%</th>\n",
       "      <td>1.000000</td>\n",
       "      <td>0.000000</td>\n",
       "      <td>1.000000</td>\n",
       "      <td>0.000000</td>\n",
       "    </tr>\n",
       "    <tr>\n",
       "      <th>max</th>\n",
       "      <td>1.000000</td>\n",
       "      <td>1.000000</td>\n",
       "      <td>2.000000</td>\n",
       "      <td>1.000000</td>\n",
       "    </tr>\n",
       "  </tbody>\n",
       "</table>\n",
       "</div>"
      ],
      "text/plain": [
       "       title_encode_Braces  title_encode_word  title_encode_len   view_encode\n",
       "count         12824.000000       12824.000000      12824.000000  12824.000000\n",
       "mean              0.357923           0.024485          0.988771      0.041953\n",
       "std               0.479408           0.154556          0.703174      0.200489\n",
       "min               0.000000           0.000000          0.000000      0.000000\n",
       "25%               0.000000           0.000000          0.000000      0.000000\n",
       "50%               0.000000           0.000000          1.000000      0.000000\n",
       "75%               1.000000           0.000000          1.000000      0.000000\n",
       "max               1.000000           1.000000          2.000000      1.000000"
      ]
     },
     "execution_count": 12,
     "metadata": {},
     "output_type": "execute_result"
    }
   ],
   "source": [
    "#データの可視化\n",
    "df_ex = df[['title_encode_Braces','title_encode_word','title_encode_len','view_encode']]\n",
    "df_ex = df_ex.fillna(0)\n",
    "df_ex.describe()"
   ]
  },
  {
   "cell_type": "code",
   "execution_count": 13,
   "metadata": {},
   "outputs": [],
   "source": [
    "#モデルの構築\n",
    "import numpy as np\n",
    "import numpy.random as random\n",
    "import scipy as sp\n",
    "from sklearn.model_selection import train_test_split\n",
    "from sklearn.metrics import confusion_matrix\n",
    "\n",
    "X = df2\n",
    "Y = df['view_encode']\n",
    "X_train, X_test, y_train, y_test = train_test_split(X, Y, random_state=0)"
   ]
  },
  {
   "cell_type": "code",
   "execution_count": 14,
   "metadata": {},
   "outputs": [
    {
     "name": "stdout",
     "output_type": "stream",
     "text": [
      "train score: 0.9588271990018715\n",
      "test score: 0.9557080474111042\n"
     ]
    }
   ],
   "source": [
    "#決定木\n",
    "\n",
    "from sklearn.tree import DecisionTreeClassifier\n",
    "\n",
    "# 決定木インスタンス(木の深さ3)\n",
    "model = DecisionTreeClassifier(max_depth=3)\n",
    "#学習モデル構築。引数に訓練データの特徴量と、それに対応したラベル\n",
    "model.fit(X_train, y_train)\n",
    "predicted = model.predict(X_test)\n",
    "\n",
    "# .scoreで正解率を算出。\n",
    "print(\"train score:\",model.score(X_train,y_train))\n",
    "print(\"test score:\",model.score(X_test,y_test))"
   ]
  },
  {
   "cell_type": "code",
   "execution_count": 15,
   "metadata": {},
   "outputs": [
    {
     "data": {
      "text/plain": [
       "array([[3064,  142],\n",
       "       [   0,    0]])"
      ]
     },
     "execution_count": 15,
     "metadata": {},
     "output_type": "execute_result"
    }
   ],
   "source": [
    "#混合行列の作成\n",
    "confusion_matrix(predicted,y_test)"
   ]
  },
  {
   "cell_type": "code",
   "execution_count": null,
   "metadata": {
    "scrolled": true
   },
   "outputs": [],
   "source": []
  },
  {
   "cell_type": "code",
   "execution_count": null,
   "metadata": {},
   "outputs": [],
   "source": []
  },
  {
   "cell_type": "code",
   "execution_count": null,
   "metadata": {},
   "outputs": [],
   "source": []
  }
 ],
 "metadata": {
  "kernelspec": {
   "display_name": "Python 3",
   "language": "python",
   "name": "python3"
  },
  "language_info": {
   "codemirror_mode": {
    "name": "ipython",
    "version": 3
   },
   "file_extension": ".py",
   "mimetype": "text/x-python",
   "name": "python",
   "nbconvert_exporter": "python",
   "pygments_lexer": "ipython3",
   "version": "3.6.6"
  }
 },
 "nbformat": 4,
 "nbformat_minor": 2
}
