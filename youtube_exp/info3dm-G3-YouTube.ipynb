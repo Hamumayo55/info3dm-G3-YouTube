{
 "cells": [
  {
   "cell_type": "code",
   "execution_count": 1,
   "metadata": {},
   "outputs": [],
   "source": [
    "import pandas as pd\n",
    "from pandas import Series, DataFrame\n",
    "import codecs"
   ]
  },
  {
   "cell_type": "code",
   "execution_count": 2,
   "metadata": {},
   "outputs": [],
   "source": [
    "#Video_idの被りを省く\n",
    "with codecs.open(\"JPvideos.csv\", \"r\", \"UTF-8\", \"ignore\") as file:\n",
    "    df =  pd.read_csv(file)\n",
    "    df.drop_duplicates(subset='video_id', keep='last', inplace=True)"
   ]
  },
  {
   "cell_type": "code",
   "execution_count": 3,
   "metadata": {
    "scrolled": false
   },
   "outputs": [],
   "source": [
    "#必要のないと思われるCategoryID\n",
    "remove_CategoryID = [3,4,5,6,7,8,9,11,12,13,14,16,28]\n",
    "for n in remove_CategoryID:\n",
    "    df = df[df[\"category_id\"]!=n]"
   ]
  },
  {
   "cell_type": "code",
   "execution_count": 4,
   "metadata": {},
   "outputs": [],
   "source": [
    "#再生数が50万を超えている動画のみ\n",
    "df = df[df[\"views\"]>500000]"
   ]
  },
  {
   "cell_type": "code",
   "execution_count": 5,
   "metadata": {},
   "outputs": [],
   "source": [
    "#[]が含まれるなら1,含まれないなら0\n",
    "\n",
    "buzz_word_Braces = [\"【\",\"】\"]\n",
    "for i in buzz_word_Braces:\n",
    "    df.loc[df['title'].str.contains(i),\"title_encode_Braces\"] = 1\n",
    "df.loc[df['title_encode_Braces'].isnull(),\"title_encode_Braces\"] = 0"
   ]
  },
  {
   "cell_type": "code",
   "execution_count": 6,
   "metadata": {},
   "outputs": [],
   "source": [
    "#バズりやすい言葉があれば1,それ以外を0\n",
    "\n",
    "buzz_word = [\"神回\",\"悲報\",\"www\",\"衝撃\",\"危険\",\"危機\"]\n",
    "for n in buzz_word:\n",
    "    df.loc[df['title'].str.contains(n),\"title_encode_word\"] = 1\n",
    "df.loc[df['title_encode_word'].isnull(),\"title_encode_word\"] = 0"
   ]
  },
  {
   "cell_type": "code",
   "execution_count": 7,
   "metadata": {},
   "outputs": [
    {
     "data": {
      "text/plain": [
       "count    1083.000000\n",
       "mean       41.727608\n",
       "std        19.195382\n",
       "min         3.000000\n",
       "25%        27.000000\n",
       "50%        38.000000\n",
       "75%        55.000000\n",
       "max        97.000000\n",
       "Name: len_title, dtype: float64"
      ]
     },
     "execution_count": 7,
     "metadata": {},
     "output_type": "execute_result"
    }
   ],
   "source": [
    "#メッセージの長さ\n",
    "df['len_title'] = df['title'].apply(lambda x: len(str(x).replace(' ', '')))\n",
    "df[\"len_title\"].describe()"
   ]
  },
  {
   "cell_type": "code",
   "execution_count": 8,
   "metadata": {},
   "outputs": [],
   "source": [
    "df.loc[df['len_title'] > 45,\"title_encode_len\"] = 2\n",
    "df.loc[df['len_title'] < 45 ,\"title_encode_len\"] = 1\n",
    "df.loc[df['len_title'] < 24,\"title_encode_len\"] = 0"
   ]
  },
  {
   "cell_type": "code",
   "execution_count": 9,
   "metadata": {},
   "outputs": [],
   "source": [
    "#100万再生なら1,違うなら0とする\n",
    "df.loc[df['views'] > 1000000,\"view_encode\"] = 1\n",
    "df.loc[df['view_encode'].isnull(),\"view_encode\"] = 0"
   ]
  },
  {
   "cell_type": "code",
   "execution_count": 10,
   "metadata": {},
   "outputs": [],
   "source": [
    "#データフレームを整える\n",
    "df2 = df[['title_encode_Braces','title_encode_word','title_encode_len']]\n",
    "df2 = df2.fillna(0)"
   ]
  },
  {
   "cell_type": "code",
   "execution_count": 11,
   "metadata": {},
   "outputs": [
    {
     "data": {
      "text/html": [
       "<div>\n",
       "<style scoped>\n",
       "    .dataframe tbody tr th:only-of-type {\n",
       "        vertical-align: middle;\n",
       "    }\n",
       "\n",
       "    .dataframe tbody tr th {\n",
       "        vertical-align: top;\n",
       "    }\n",
       "\n",
       "    .dataframe thead th {\n",
       "        text-align: right;\n",
       "    }\n",
       "</style>\n",
       "<table border=\"1\" class=\"dataframe\">\n",
       "  <thead>\n",
       "    <tr style=\"text-align: right;\">\n",
       "      <th></th>\n",
       "      <th>title_encode_Braces</th>\n",
       "      <th>title_encode_word</th>\n",
       "      <th>title_encode_len</th>\n",
       "      <th>view_encode</th>\n",
       "    </tr>\n",
       "  </thead>\n",
       "  <tbody>\n",
       "    <tr>\n",
       "      <th>count</th>\n",
       "      <td>1083.000000</td>\n",
       "      <td>1083.000000</td>\n",
       "      <td>1083.000000</td>\n",
       "      <td>1083.000000</td>\n",
       "    </tr>\n",
       "    <tr>\n",
       "      <th>mean</th>\n",
       "      <td>0.192059</td>\n",
       "      <td>0.019391</td>\n",
       "      <td>1.204986</td>\n",
       "      <td>0.496768</td>\n",
       "    </tr>\n",
       "    <tr>\n",
       "      <th>std</th>\n",
       "      <td>0.394101</td>\n",
       "      <td>0.137957</td>\n",
       "      <td>0.708082</td>\n",
       "      <td>0.500221</td>\n",
       "    </tr>\n",
       "    <tr>\n",
       "      <th>min</th>\n",
       "      <td>0.000000</td>\n",
       "      <td>0.000000</td>\n",
       "      <td>0.000000</td>\n",
       "      <td>0.000000</td>\n",
       "    </tr>\n",
       "    <tr>\n",
       "      <th>25%</th>\n",
       "      <td>0.000000</td>\n",
       "      <td>0.000000</td>\n",
       "      <td>1.000000</td>\n",
       "      <td>0.000000</td>\n",
       "    </tr>\n",
       "    <tr>\n",
       "      <th>50%</th>\n",
       "      <td>0.000000</td>\n",
       "      <td>0.000000</td>\n",
       "      <td>1.000000</td>\n",
       "      <td>0.000000</td>\n",
       "    </tr>\n",
       "    <tr>\n",
       "      <th>75%</th>\n",
       "      <td>0.000000</td>\n",
       "      <td>0.000000</td>\n",
       "      <td>2.000000</td>\n",
       "      <td>1.000000</td>\n",
       "    </tr>\n",
       "    <tr>\n",
       "      <th>max</th>\n",
       "      <td>1.000000</td>\n",
       "      <td>1.000000</td>\n",
       "      <td>2.000000</td>\n",
       "      <td>1.000000</td>\n",
       "    </tr>\n",
       "  </tbody>\n",
       "</table>\n",
       "</div>"
      ],
      "text/plain": [
       "       title_encode_Braces  title_encode_word  title_encode_len  view_encode\n",
       "count          1083.000000        1083.000000       1083.000000  1083.000000\n",
       "mean              0.192059           0.019391          1.204986     0.496768\n",
       "std               0.394101           0.137957          0.708082     0.500221\n",
       "min               0.000000           0.000000          0.000000     0.000000\n",
       "25%               0.000000           0.000000          1.000000     0.000000\n",
       "50%               0.000000           0.000000          1.000000     0.000000\n",
       "75%               0.000000           0.000000          2.000000     1.000000\n",
       "max               1.000000           1.000000          2.000000     1.000000"
      ]
     },
     "execution_count": 11,
     "metadata": {},
     "output_type": "execute_result"
    }
   ],
   "source": [
    "#データの可視化\n",
    "df_ex = df[['title_encode_Braces','title_encode_word','title_encode_len','view_encode']]\n",
    "df_ex = df_ex.fillna(0)\n",
    "df_ex.describe()"
   ]
  },
  {
   "cell_type": "code",
   "execution_count": 12,
   "metadata": {},
   "outputs": [
    {
     "data": {
      "text/plain": [
       "3392     0.0\n",
       "16303    1.0\n",
       "15306    1.0\n",
       "5597     1.0\n",
       "14476    1.0\n",
       "Name: view_encode, dtype: float64"
      ]
     },
     "execution_count": 12,
     "metadata": {},
     "output_type": "execute_result"
    }
   ],
   "source": [
    "#モデルの構築\n",
    "import numpy as np\n",
    "import numpy.random as random\n",
    "import scipy as sp\n",
    "from sklearn.model_selection import train_test_split\n",
    "from sklearn.metrics import confusion_matrix\n",
    "\n",
    "X = df2\n",
    "Y = df['view_encode']\n",
    "X_train, X_test, y_train, y_test = train_test_split(X, Y, random_state=0)\n",
    "y_train.head()"
   ]
  },
  {
   "cell_type": "code",
   "execution_count": 13,
   "metadata": {},
   "outputs": [
    {
     "name": "stdout",
     "output_type": "stream",
     "text": [
      "train score: 0.5689655172413793\n",
      "test score: 0.5166051660516605\n"
     ]
    }
   ],
   "source": [
    "#決定木\n",
    "\n",
    "from sklearn.tree import DecisionTreeClassifier\n",
    "from sklearn import tree\n",
    "\n",
    "# 決定木インスタンス(木の深さ3)\n",
    "model = DecisionTreeClassifier(max_depth=5)\n",
    "#学習モデル構築。引数に訓練データの特徴量と、それに対応したラベル\n",
    "model.fit(X_train, y_train)\n",
    "predicted = model.predict(X_test)\n",
    "\n",
    "# .scoreで正解率を算出。\n",
    "print(\"train score:\",model.score(X_train,y_train))\n",
    "print(\"test score:\",model.score(X_test,y_test))"
   ]
  },
  {
   "cell_type": "code",
   "execution_count": 14,
   "metadata": {},
   "outputs": [
    {
     "data": {
      "text/plain": [
       "array([[46, 42],\n",
       "       [89, 94]])"
      ]
     },
     "execution_count": 14,
     "metadata": {},
     "output_type": "execute_result"
    }
   ],
   "source": [
    "#混同行列の作成\n",
    "plot_cm = confusion_matrix(predicted,y_test)\n",
    "plot_cm"
   ]
  },
  {
   "cell_type": "code",
   "execution_count": 15,
   "metadata": {},
   "outputs": [
    {
     "name": "stdout",
     "output_type": "stream",
     "text": [
      "Requirement already satisfied: graphviz in /Users/e175769/.pyenv/versions/anaconda3-5.3.0/lib/python3.6/site-packages (0.11)\n",
      "Requirement already satisfied: seaborn in /Users/e175769/.pyenv/versions/anaconda3-5.3.0/lib/python3.6/site-packages (0.9.0)\n",
      "Requirement already satisfied: scipy>=0.14.0 in /Users/e175769/.pyenv/versions/anaconda3-5.3.0/lib/python3.6/site-packages (from seaborn) (1.1.0)\n",
      "Requirement already satisfied: matplotlib>=1.4.3 in /Users/e175769/.pyenv/versions/anaconda3-5.3.0/lib/python3.6/site-packages (from seaborn) (2.2.3)\n",
      "Requirement already satisfied: numpy>=1.9.3 in /Users/e175769/.pyenv/versions/anaconda3-5.3.0/lib/python3.6/site-packages (from seaborn) (1.15.4)\n",
      "Requirement already satisfied: pandas>=0.15.2 in /Users/e175769/.pyenv/versions/anaconda3-5.3.0/lib/python3.6/site-packages (from seaborn) (0.23.4)\n",
      "Requirement already satisfied: cycler>=0.10 in /Users/e175769/.pyenv/versions/anaconda3-5.3.0/lib/python3.6/site-packages (from matplotlib>=1.4.3->seaborn) (0.10.0)\n",
      "Requirement already satisfied: pyparsing!=2.0.4,!=2.1.2,!=2.1.6,>=2.0.1 in /Users/e175769/.pyenv/versions/anaconda3-5.3.0/lib/python3.6/site-packages (from matplotlib>=1.4.3->seaborn) (2.3.0)\n",
      "Requirement already satisfied: python-dateutil>=2.1 in /Users/e175769/.pyenv/versions/anaconda3-5.3.0/lib/python3.6/site-packages (from matplotlib>=1.4.3->seaborn) (2.7.5)\n",
      "Requirement already satisfied: pytz in /Users/e175769/.pyenv/versions/anaconda3-5.3.0/lib/python3.6/site-packages (from matplotlib>=1.4.3->seaborn) (2018.7)\n",
      "Requirement already satisfied: six>=1.10 in /Users/e175769/.pyenv/versions/anaconda3-5.3.0/lib/python3.6/site-packages (from matplotlib>=1.4.3->seaborn) (1.11.0)\n",
      "Requirement already satisfied: kiwisolver>=1.0.1 in /Users/e175769/.pyenv/versions/anaconda3-5.3.0/lib/python3.6/site-packages (from matplotlib>=1.4.3->seaborn) (1.0.1)\n",
      "Requirement already satisfied: setuptools in /Users/e175769/.pyenv/versions/anaconda3-5.3.0/lib/python3.6/site-packages (from kiwisolver>=1.0.1->matplotlib>=1.4.3->seaborn) (40.6.2)\n"
     ]
    }
   ],
   "source": [
    "#グラフ表示に必要なモジュールのインストール\n",
    "!pip install graphviz\n",
    "!pip install seaborn"
   ]
  },
  {
   "cell_type": "code",
   "execution_count": 17,
   "metadata": {},
   "outputs": [
    {
     "data": {
      "text/plain": [
       "<matplotlib.axes._subplots.AxesSubplot at 0x1a1a8ce908>"
      ]
     },
     "execution_count": 17,
     "metadata": {},
     "output_type": "execute_result"
    },
    {
     "data": {
      "image/png": "[encoded data removed]",
      "text/plain": [
       "<Figure size 432x288 with 2 Axes>"
      ]
     },
     "metadata": {
      "needs_background": "light"
     },
     "output_type": "display_data"
    }
   ],
   "source": [
    "#混同行列の可視化\n",
    "from sklearn.metrics import confusion_matrix\n",
    "import seaborn as sns\n",
    "import matplotlib.pyplot as plt\n",
    "\n",
    "sns.heatmap(plot_cm, annot=True, cmap='Reds')"
   ]
  },
  {
   "cell_type": "code",
   "execution_count": 27,
   "metadata": {},
   "outputs": [],
   "source": [
    "#決定木の出力\n",
    "with open('YouTube-dtree.dot', mode='w') as f:\n",
    "    tree.export_graphviz(model, out_file=f)"
   ]
  },
  {
   "cell_type": "code",
   "execution_count": 30,
   "metadata": {},
   "outputs": [],
   "source": [
    "!dot -T png YouTube-dtree.dot -o YouTube-dtree.png\n",
    "!open YouTube-dtree.png"
   ]
  },
  {
   "cell_type": "code",
   "execution_count": 25,
   "metadata": {
    "scrolled": true
   },
   "outputs": [
    {
     "name": "stdout",
     "output_type": "stream",
     "text": [
      "train score: 0.5603448275862069\n",
      "test score: 0.5350553505535055\n"
     ]
    }
   ],
   "source": [
    "# サポートベクターマシン（SVM）\n",
    "from sklearn.svm import LinearSVC\n",
    "\n",
    "# SVMインスタンス\n",
    "model = LinearSVC()\n",
    "#学習モデル構築。引数に訓練データの特徴量と、それに対応したラベル\n",
    "model.fit(X_train, y_train)\n",
    "\n",
    "# .scoreで正解率を算出。\n",
    "print(\"train score:\",model.score(X_train,y_train))\n",
    "print(\"test score:\",model.score(X_test,y_test))"
   ]
  },
  {
   "cell_type": "code",
   "execution_count": null,
   "metadata": {},
   "outputs": [],
   "source": []
  },
  {
   "cell_type": "code",
   "execution_count": null,
   "metadata": {},
   "outputs": [],
   "source": []
  }
 ],
 "metadata": {
  "kernelspec": {
   "display_name": "Python 3",
   "language": "python",
   "name": "python3"
  },
  "language_info": {
   "codemirror_mode": {
    "name": "ipython",
    "version": 3
   },
   "file_extension": ".py",
   "mimetype": "text/x-python",
   "name": "python",
   "nbconvert_exporter": "python",
   "pygments_lexer": "ipython3",
   "version": "3.6.6"
  }
 },
 "nbformat": 4,
 "nbformat_minor": 2
}
