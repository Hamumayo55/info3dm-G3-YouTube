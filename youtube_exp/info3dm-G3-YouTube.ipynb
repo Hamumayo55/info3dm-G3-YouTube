{
 "cells": [
  {
   "cell_type": "code",
   "execution_count": 38,
   "metadata": {},
   "outputs": [],
   "source": [
    "import pandas as pd\n",
    "from pandas import Series, DataFrame\n",
    "import codecs"
   ]
  },
  {
   "cell_type": "code",
   "execution_count": 39,
   "metadata": {},
   "outputs": [],
   "source": [
    "#Video_idの被りを省く\n",
    "with codecs.open(\"JPvideos.csv\", \"r\", \"UTF-8\", \"ignore\") as file:\n",
    "    df =  pd.read_csv(file)\n",
    "    df.drop_duplicates(subset='video_id', keep='last', inplace=True)"
   ]
  },
  {
   "cell_type": "code",
   "execution_count": 40,
   "metadata": {
    "scrolled": false
   },
   "outputs": [],
   "source": [
    "#必要のないと思われるCategoryID\n",
    "remove_CategoryID = [3,4,5,6,7,8,9,11,12,13,14,16,28]\n",
    "for n in remove_CategoryID:\n",
    "    df = df[df[\"category_id\"]!=n]"
   ]
  },
  {
   "cell_type": "code",
   "execution_count": 41,
   "metadata": {},
   "outputs": [],
   "source": [
    "#再生数が50万を超えている動画のみ\n",
    "df = df[df[\"views\"]>500000]"
   ]
  },
  {
   "cell_type": "code",
   "execution_count": 5,
   "metadata": {},
   "outputs": [],
   "source": [
    "#[]が含まれるなら1,含まれないなら0\n",
    "\n",
    "buzz_word_Braces = [\"【\",\"】\",]\n",
    "for i in buzz_word_Braces:\n",
    "    df.loc[df['title'].str.contains(i),\"title_encode_Braces\"] = 1\n",
    "df.loc[df['title_encode_Braces'].isnull(),\"title_encode_Braces\"] = 0"
   ]
  },
  {
   "cell_type": "code",
   "execution_count": 6,
   "metadata": {},
   "outputs": [],
   "source": [
    "#バズりやすい言葉があれば1,それ以外を0\n",
    "\n",
    "buzz_word = [\"神回\",\"悲報\",\"www\",\"衝撃\",\"危険\",\"危機\"]\n",
    "for n in buzz_word:\n",
    "    df.loc[df['title'].str.contains(n),\"title_encode_word\"] = 1\n",
    "df.loc[df['title_encode_word'].isnull(),\"title_encode_word\"] = 0"
   ]
  },
  {
   "cell_type": "code",
   "execution_count": 7,
   "metadata": {},
   "outputs": [
    {
     "data": {
      "text/plain": [
       "count    1083.000000\n",
       "mean       41.727608\n",
       "std        19.195382\n",
       "min         3.000000\n",
       "25%        27.000000\n",
       "50%        38.000000\n",
       "75%        55.000000\n",
       "max        97.000000\n",
       "Name: len_title, dtype: float64"
      ]
     },
     "execution_count": 7,
     "metadata": {},
     "output_type": "execute_result"
    }
   ],
   "source": [
    "#メッセージの長さ\n",
    "df['len_title'] = df['title'].apply(lambda x: len(str(x).replace(' ', '')))\n",
    "df[\"len_title\"].describe()"
   ]
  },
  {
   "cell_type": "code",
   "execution_count": 8,
   "metadata": {},
   "outputs": [],
   "source": [
    "df.loc[df['len_title'] > 45,\"title_encode_len\"] = 2\n",
    "df.loc[df['len_title'] < 45 ,\"title_encode_len\"] = 1\n",
    "df.loc[df['len_title'] < 24,\"title_encode_len\"] = 0"
   ]
  },
  {
   "cell_type": "code",
   "execution_count": 9,
   "metadata": {},
   "outputs": [],
   "source": [
    "#100万再生なら1,違うなら0とする\n",
    "df.loc[df['views'] > 1000000,\"view_encode\"] = 1\n",
    "df.loc[df['view_encode'].isnull(),\"view_encode\"] = 0"
   ]
  },
  {
   "cell_type": "code",
   "execution_count": 10,
   "metadata": {},
   "outputs": [],
   "source": [
    "#データフレームを整える\n",
    "df2 = df[['title_encode_Braces','title_encode_word','title_encode_len']]\n",
    "df2 = df2.fillna(0)"
   ]
  },
  {
   "cell_type": "code",
   "execution_count": 11,
   "metadata": {},
   "outputs": [
    {
     "data": {
      "text/html": [
       "<div>\n",
       "<style scoped>\n",
       "    .dataframe tbody tr th:only-of-type {\n",
       "        vertical-align: middle;\n",
       "    }\n",
       "\n",
       "    .dataframe tbody tr th {\n",
       "        vertical-align: top;\n",
       "    }\n",
       "\n",
       "    .dataframe thead th {\n",
       "        text-align: right;\n",
       "    }\n",
       "</style>\n",
       "<table border=\"1\" class=\"dataframe\">\n",
       "  <thead>\n",
       "    <tr style=\"text-align: right;\">\n",
       "      <th></th>\n",
       "      <th>title_encode_Braces</th>\n",
       "      <th>title_encode_word</th>\n",
       "      <th>title_encode_len</th>\n",
       "      <th>view_encode</th>\n",
       "    </tr>\n",
       "  </thead>\n",
       "  <tbody>\n",
       "    <tr>\n",
       "      <th>count</th>\n",
       "      <td>1083.000000</td>\n",
       "      <td>1083.000000</td>\n",
       "      <td>1083.000000</td>\n",
       "      <td>1083.000000</td>\n",
       "    </tr>\n",
       "    <tr>\n",
       "      <th>mean</th>\n",
       "      <td>0.192059</td>\n",
       "      <td>0.019391</td>\n",
       "      <td>1.204986</td>\n",
       "      <td>0.496768</td>\n",
       "    </tr>\n",
       "    <tr>\n",
       "      <th>std</th>\n",
       "      <td>0.394101</td>\n",
       "      <td>0.137957</td>\n",
       "      <td>0.708082</td>\n",
       "      <td>0.500221</td>\n",
       "    </tr>\n",
       "    <tr>\n",
       "      <th>min</th>\n",
       "      <td>0.000000</td>\n",
       "      <td>0.000000</td>\n",
       "      <td>0.000000</td>\n",
       "      <td>0.000000</td>\n",
       "    </tr>\n",
       "    <tr>\n",
       "      <th>25%</th>\n",
       "      <td>0.000000</td>\n",
       "      <td>0.000000</td>\n",
       "      <td>1.000000</td>\n",
       "      <td>0.000000</td>\n",
       "    </tr>\n",
       "    <tr>\n",
       "      <th>50%</th>\n",
       "      <td>0.000000</td>\n",
       "      <td>0.000000</td>\n",
       "      <td>1.000000</td>\n",
       "      <td>0.000000</td>\n",
       "    </tr>\n",
       "    <tr>\n",
       "      <th>75%</th>\n",
       "      <td>0.000000</td>\n",
       "      <td>0.000000</td>\n",
       "      <td>2.000000</td>\n",
       "      <td>1.000000</td>\n",
       "    </tr>\n",
       "    <tr>\n",
       "      <th>max</th>\n",
       "      <td>1.000000</td>\n",
       "      <td>1.000000</td>\n",
       "      <td>2.000000</td>\n",
       "      <td>1.000000</td>\n",
       "    </tr>\n",
       "  </tbody>\n",
       "</table>\n",
       "</div>"
      ],
      "text/plain": [
       "       title_encode_Braces  title_encode_word  title_encode_len  view_encode\n",
       "count          1083.000000        1083.000000       1083.000000  1083.000000\n",
       "mean              0.192059           0.019391          1.204986     0.496768\n",
       "std               0.394101           0.137957          0.708082     0.500221\n",
       "min               0.000000           0.000000          0.000000     0.000000\n",
       "25%               0.000000           0.000000          1.000000     0.000000\n",
       "50%               0.000000           0.000000          1.000000     0.000000\n",
       "75%               0.000000           0.000000          2.000000     1.000000\n",
       "max               1.000000           1.000000          2.000000     1.000000"
      ]
     },
     "execution_count": 11,
     "metadata": {},
     "output_type": "execute_result"
    }
   ],
   "source": [
    "#データの可視化\n",
    "df_ex = df[['title_encode_Braces','title_encode_word','title_encode_len','view_encode']]\n",
    "df_ex = df_ex.fillna(0)\n",
    "df_ex.describe()"
   ]
  },
  {
   "cell_type": "code",
   "execution_count": 12,
   "metadata": {},
   "outputs": [
    {
     "data": {
      "text/plain": [
       "3392     0.0\n",
       "16303    1.0\n",
       "15306    1.0\n",
       "5597     1.0\n",
       "14476    1.0\n",
       "Name: view_encode, dtype: float64"
      ]
     },
     "execution_count": 12,
     "metadata": {},
     "output_type": "execute_result"
    }
   ],
   "source": [
    "#モデルの構築\n",
    "import numpy as np\n",
    "import numpy.random as random\n",
    "import scipy as sp\n",
    "from sklearn.model_selection import train_test_split\n",
    "from sklearn.metrics import confusion_matrix\n",
    "\n",
    "X = df2\n",
    "Y = df['view_encode']\n",
    "X_train, X_test, y_train, y_test = train_test_split(X, Y, random_state=0)\n",
    "y_train.head()"
   ]
  },
  {
   "cell_type": "code",
   "execution_count": 13,
   "metadata": {
    "scrolled": true
   },
   "outputs": [
    {
     "name": "stdout",
     "output_type": "stream",
     "text": [
      "train score: 0.5689655172413793\n",
      "test score: 0.5166051660516605\n"
     ]
    }
   ],
   "source": [
    "#決定木\n",
    "\n",
    "from sklearn.tree import DecisionTreeClassifier\n",
    "from sklearn import tree\n",
    "\n",
    "# 決定木インスタンス(木の深さ3)\n",
    "model = DecisionTreeClassifier(max_depth=5)\n",
    "#学習モデル構築。引数に訓練データの特徴量と、それに対応したラベル\n",
    "model.fit(X_train, y_train)\n",
    "predicted = model.predict(X_test)\n",
    "\n",
    "# .scoreで正解率を算出。\n",
    "print(\"train score:\",model.score(X_train,y_train))\n",
    "print(\"test score:\",model.score(X_test,y_test))"
   ]
  },
  {
   "cell_type": "code",
   "execution_count": 14,
   "metadata": {},
   "outputs": [
    {
     "data": {
      "text/plain": [
       "array([[46, 42],\n",
       "       [89, 94]])"
      ]
     },
     "execution_count": 14,
     "metadata": {},
     "output_type": "execute_result"
    }
   ],
   "source": [
    "#混同行列の作成\n",
    "plot_cm = confusion_matrix(predicted,y_test)\n",
    "plot_cm"
   ]
  },
  {
   "cell_type": "code",
   "execution_count": 57,
   "metadata": {},
   "outputs": [
    {
     "name": "stdout",
     "output_type": "stream",
     "text": [
      "Requirement already satisfied: graphviz in /Users/e175769/.pyenv/versions/anaconda3-5.3.0/lib/python3.6/site-packages (0.11)\n",
      "Requirement already satisfied: seaborn in /Users/e175769/.pyenv/versions/anaconda3-5.3.0/lib/python3.6/site-packages (0.9.0)\n",
      "Requirement already satisfied: numpy>=1.9.3 in /Users/e175769/.pyenv/versions/anaconda3-5.3.0/lib/python3.6/site-packages (from seaborn) (1.15.4)\n",
      "Requirement already satisfied: scipy>=0.14.0 in /Users/e175769/.pyenv/versions/anaconda3-5.3.0/lib/python3.6/site-packages (from seaborn) (1.1.0)\n",
      "Requirement already satisfied: matplotlib>=1.4.3 in /Users/e175769/.pyenv/versions/anaconda3-5.3.0/lib/python3.6/site-packages (from seaborn) (2.2.3)\n",
      "Requirement already satisfied: pandas>=0.15.2 in /Users/e175769/.pyenv/versions/anaconda3-5.3.0/lib/python3.6/site-packages (from seaborn) (0.23.4)\n",
      "Requirement already satisfied: cycler>=0.10 in /Users/e175769/.pyenv/versions/anaconda3-5.3.0/lib/python3.6/site-packages (from matplotlib>=1.4.3->seaborn) (0.10.0)\n",
      "Requirement already satisfied: pyparsing!=2.0.4,!=2.1.2,!=2.1.6,>=2.0.1 in /Users/e175769/.pyenv/versions/anaconda3-5.3.0/lib/python3.6/site-packages (from matplotlib>=1.4.3->seaborn) (2.3.0)\n",
      "Requirement already satisfied: python-dateutil>=2.1 in /Users/e175769/.pyenv/versions/anaconda3-5.3.0/lib/python3.6/site-packages (from matplotlib>=1.4.3->seaborn) (2.7.5)\n",
      "Requirement already satisfied: pytz in /Users/e175769/.pyenv/versions/anaconda3-5.3.0/lib/python3.6/site-packages (from matplotlib>=1.4.3->seaborn) (2018.7)\n",
      "Requirement already satisfied: six>=1.10 in /Users/e175769/.pyenv/versions/anaconda3-5.3.0/lib/python3.6/site-packages (from matplotlib>=1.4.3->seaborn) (1.11.0)\n",
      "Requirement already satisfied: kiwisolver>=1.0.1 in /Users/e175769/.pyenv/versions/anaconda3-5.3.0/lib/python3.6/site-packages (from matplotlib>=1.4.3->seaborn) (1.0.1)\n",
      "Requirement already satisfied: setuptools in /Users/e175769/.pyenv/versions/anaconda3-5.3.0/lib/python3.6/site-packages (from kiwisolver>=1.0.1->matplotlib>=1.4.3->seaborn) (40.6.2)\n"
     ]
    }
   ],
   "source": [
    "#グラフ表示に必要なモジュールのインストール\n",
    "!pip install graphviz\n",
    "!pip install seaborn"
   ]
  },
  {
   "cell_type": "code",
   "execution_count": 17,
   "metadata": {},
   "outputs": [
    {
     "data": {
      "text/plain": [
       "<matplotlib.axes._subplots.AxesSubplot at 0x1a15a1bba8>"
      ]
     },
     "execution_count": 17,
     "metadata": {},
     "output_type": "execute_result"
    },
    {
     "data": {
      "image/png": "[encoded data removed]",
      "text/plain": [
       "<Figure size 432x288 with 2 Axes>"
      ]
     },
     "metadata": {
      "needs_background": "light"
     },
     "output_type": "display_data"
    }
   ],
   "source": [
    "#混同行列の可視化\n",
    "from sklearn.metrics import confusion_matrix\n",
    "import seaborn as sns\n",
    "import matplotlib.pyplot as plt\n",
    "\n",
    "sns.heatmap(plot_cm, annot=True, cmap='Reds')"
   ]
  },
  {
   "cell_type": "code",
   "execution_count": 18,
   "metadata": {},
   "outputs": [],
   "source": [
    "#決定木の出力\n",
    "with open('YouTube-dtree.dot', mode='w') as f:\n",
    "    tree.export_graphviz(model, out_file=f)"
   ]
  },
  {
   "cell_type": "code",
   "execution_count": 25,
   "metadata": {},
   "outputs": [],
   "source": [
    "!dot -T png YouTube-dtree.dot -o YouTube-dtree.png\n",
    "!open YouTube-dtree.png"
   ]
  },
  {
   "cell_type": "code",
   "execution_count": 20,
   "metadata": {
    "scrolled": true
   },
   "outputs": [
    {
     "data": {
      "text/plain": [
       "410"
      ]
     },
     "execution_count": 20,
     "metadata": {},
     "output_type": "execute_result"
    }
   ],
   "source": [
    "cnt_ytrain = (y_train == 0)\n",
    "cnt_ytrain.sum()"
   ]
  },
  {
   "cell_type": "code",
   "execution_count": 21,
   "metadata": {},
   "outputs": [
    {
     "name": "stdout",
     "output_type": "stream",
     "text": [
      "Requirement already satisfied: janome in /Users/e175769/.pyenv/versions/anaconda3-5.3.0/lib/python3.6/site-packages (0.3.9)\r\n"
     ]
    }
   ],
   "source": [
    "!pip install janome"
   ]
  },
  {
   "cell_type": "code",
   "execution_count": 22,
   "metadata": {},
   "outputs": [
    {
     "name": "stdout",
     "output_type": "stream",
     "text": [
      "Counter({'も': 2, 'もも': 2, 'すもも': 1, 'の': 1, 'うち': 1})\n"
     ]
    }
   ],
   "source": [
    "#形態素解析の演習\n",
    "from janome.tokenizer import Tokenizer\n",
    "import collections\n",
    "\n",
    "t_test = []\n",
    "t = Tokenizer()\n",
    "s = 'すもももももももものうち'\n",
    "for token in t.tokenize(s):\n",
    "    t_test.append((token.surface))\n",
    "c = collections.Counter(t_test)\n",
    "print(c)\n",
    "#100万再生のデータフレームの生成\n",
    "df_OneMillion = df[df[\"views\"]>1000000]"
   ]
  },
  {
   "cell_type": "code",
   "execution_count": 23,
   "metadata": {},
   "outputs": [
    {
     "name": "stdout",
     "output_type": "stream",
     "text": [
      "Counter({' ': 3466, '-': 216, 'の': 115, '(': 114, '/': 113, '|': 101, '2018': 100, ')': 99, '】': 80, '【': 77, '！': 69, 'vs': 66, ',': 64, \"'\": 63, ':': 60, '.': 59, 'Game': 56, 'に': 56, 'Highlights': 54, 'Full': 52, 'が': 50, '2': 49, 'Official': 49, 'で': 49, 'た': 41, '1': 39, 'て': 35, 'The': 34, 'NBA': 33, '3': 33, 'を': 31, 'Trailer': 30, 'HD': 29, '&': 28, 'Video': 28, '$': 27, 'し': 25, '[': 24, '!': 23, ']': 23, '「': 21, '山口': 21, 'All': 20, '」': 20, 'は': 20, '、': 20, '？': 19, '  ': 19, 'M': 19, 'EP': 19, '・': 18, 'と': 18, 'Playoffs': 18, '18': 17, 'Cleveland': 17, 'Cavaliers': 17, 'たら': 17, 'Music': 17, '\\u3000': 17, '゙': 17, 'is': 16, '。': 16, 'TOKIO': 16, '6': 15, 'Goals': 15, 'with': 15, 'TWICE': 15, 'MV': 15, 'Love': 15, 'BTS': 15, '?': 14, '5': 13, '0': 13, 's': 13, 'V': 13, '達也': 13, 'Trump': 12, '7': 12, 'Teaser': 12, 'ない': 12, 'the': 12, '人': 12, 'YOU': 12, 'To': 12, 'What': 12, 'Warriors': 11, 'Season': 11, '4': 11, 'One': 11, 'Last': 11, 'Week': 11, 'Tonight': 11, 'John': 11, 'Oliver': 11, 'HBO': 11, '#': 11, '日': 11, '방탄소년단': 11, 'メンバー': 11, 'から': 10, 'Golden': 10, '2017': 10, 'Extended': 10, 'み': 10, 'and': 10, 'ft': 10, 'Vs': 10, 'LOVE': 10, 'State': 9, 'な': 9, 'Tập': 9, 'れ': 9, 'THE': 9, 'Me': 8, 'か': 8, 'Giang': 8, '会見': 8, 'FAKE': 8, 'まし': 7, '…': 7, 'Barcelona': 7, '02': 7, 'a': 7, 'Phim': 7, '8': 7, 'Boston': 7, 'Celtics': 7, 'U': 7, 'S': 7, '平': 7, '”': 7, '20': 7, '03': 7, 'Got': 7, 'さ': 7, 'R': 7, '円': 7, 'すぎ': 7, '月': 7, 'RAPPER': 7, '2561': 7, '’': 6, 'Avengers': 6, '46': 6, 'Dance': 6, 'in': 6, 'at': 6, 'I': 6, 'Perfect': 6, '謝罪': 6, '大': 6, 'ます': 6, 'A': 6, '回': 6, \")'\": 6, 'Is': 6, '28': 6, 'TV': 6, '最強': 6, '000': 6, 'Trường': 6, 'L': 6, 'Infinity': 5, 'War': 5, 'Hài': 5, '11': 5, 'Piece': 5, 'Part': 5, '（': 5, '）': 5, 'Star': 5, 'w': 5, 'Stephen': 5, 'Dude': 5, 'Live': 5, 'も': 5, 'さん': 5, 'It': 5, '15': 5, '２': 5, '04': 5, 'Pilipinas': 5, 'Talent': 5, '３': 5, '万': 5, '100': 5, 'Race': 5, '10': 5, '家': 5, 'for': 5, '大谷': 5, '翔': 5, 'Movie': 5, 'G': 5, 'А': 5, 'Theory': 5, 'Marvel': 4, 'City': 4, 'Feb': 4, 'La': 4, 'to': 4, 'Show': 4, 'ver': 4, 'まで': 4, 'いる': 4, 'Chainsmokers': 4, 'You': 4, 'Marshmello': 4, 'OFFICIAL': 4, '後': 4, 'Night': 4, 'NCT': 4, 'FAPtv': 4, 'Cơm': 4, 'Nguội': 4, 'すぎる': 4, 'Team': 4, '韓国': 4, 'VIDEO': 4, 'Honest': 4, 'Trailers': 4, 'Dua': 4, 'Lipa': 4, 'ある': 4, '涙': 4, 'New': 4, 'この': 4, 'More': 4, '新': 4, '何': 4, '衝撃': 4, '結果': 4, 'Ralph': 4, '中': 4, '一': 4, '9': 4, 'l': 4, '診断': 4, 'of': 4, '映像': 4, 'D': 4, 'Finals': 4, 'Audio': 4, 'ー': 4, '件': 4, 'from': 4, 'Trước': 4, 'LIVE': 4, 'Resumen': 4, 'Grand': 4, '14': 4, '年': 4, 'TEASER': 4, 'アスレチック': 4, 'No': 4, '『': 4, '』': 4, '第': 4, '트와이스': 4, '...': 4, 'Houston': 4, 'Rockets': 4, '事件': 4, '帰宅': 4, 'FNAF': 4, '感想': 4, '文': 4, 'Studios': 3, 'Oklahoma': 3, 'Thunder': 3, '08': 3, 'Of': 3, 'Paul': 3, 'English': 3, '者': 3, 'だっ': 3, '乃木坂': 3, 'Hari': 3, 'Won': 3, 'Luffy': 3, 'League': 3, '13': 3, 'James': 3, 'Dead': 3, 'Drake': 3, 'God': 3, 'なし': 3, '羽生': 3, '結': 3, '弦': 3, 'だ': 3, '昌': 3, 'とんでも': 3, '엔시티': 3, 'you': 3, 'World': 3, '김보름': 3, 'LeBron': 3, 'B': 3, 'Robert': 3, 'まさかの': 3, '国分': 3, '太一': 3, 'In': 3, 'LAUGH': 3, '水曜日': 3, 'タウン': 3, '番': 3, 'DBS': 3, 'アルミホイル': 3, 'Match': 3, 'Best': 3, 'Wanna': 3, '워너원': 3, 'P': 3, 'Auditions': 3, '報告': 3, '07': 3, 'March': 3, '初': 3, '@': 3, 'れる': 3, '脱退': 3, '史上': 3, 'Saves': 3, 'Nhã': 3, 'Phương': 3, 'Nam': 3, '心霊': 3, 'Toronto': 3, 'Raptors': 3, 'Deadpool': 3, 'th': 3, '動画': 3, 'Semifinals': 3, 'Vape': 3, 'Tricks': 3, 'de': 3, '無人島': 3, 'ブス': 3, 'お': 3, '01': 3, '公式': 3, '音': 3, '女性': 3, '選手権': 3, 'ホームラン': 3, '뮤직뱅크': 3, 'Bank': 3, ').': 3, 'できる': 3, '12': 3, '_': 3, 'Final': 3, 'Indiana': 3, 'Pacers': 3, 'J': 3, 'Avicii': 3, 'Black': 3, 'Over': 3, '名前': 3, '戦': 3, '城島': 3, 'ず': 3, 'CHẠY': 3, 'NGAY': 3, 'ĐI': 3, 'SƠN': 3, 'TÙNG': 3, 'TP': 3, '05': 3, '驚愕': 3, '甲子園': 3, 'Childish': 3, 'Gambino': 3, 'This': 3, 'America': 3, '泊': 3, '寝': 3, '即': 3, '旅': 3, 'Của': 3, '17': 3, '06': 3, 'พฤษภาคม': 3, 'う': 3, 'COMEBACK': 3, 'SHOW': 3, 'Н': 3, 'O': 3, '警察': 2, 'Big': 2, 'つや': 2, 'Maroon': 2, 'Wants': 2, 'Minnesota': 2, 'Timberwolves': 2, 'VENOM': 2, 'FULL': 2, 'Tết': 2, 'Hải': 2, '師': 2, 'ンダホ': 2, 'no': 2, 'Manchester': 2, 'Commentary': 2, 'February': 2, '自分': 2, 'しか': 2, '編': 2, '炎上': 2, 'Hòa': 2, 'Minzy': 2, 'Trấn': 2, 'Thành': 2, 'Practice': 2, 'Sanji': 2, 'Him': 2, '発表': 2, 'Olympics': 2, 'ここ': 2, 'ん': 2, 'よ': 2, 'Tottenham': 2, 'Champions': 2, 'Incredibles': 2, 'Sneak': 2, 'King': 2, 'Festival': 2, 'Plan': 2, 'Anne': 2, 'Marie': 2, 'FRIENDS': 2, '*': 2, 'NHK': 2, 'ノーカット': 2, '実況': 2, '＜': 2, 'ピョンチャン': 2, '＞': 2, '16': 2, '金メダル': 2, '五輪': 2, '見せ': 2, '유': 2, 'Đời': 2, '!?': 2, '競技': 2, 'How': 2, '노선영': 2, '논란': 2, 'Kevin': 2, '小平': 2, '奈緒': 2, '殺到': 2, '予告編': 2, '..': 2, '평창올림픽': 2, 'Trick': 2, 'Shots': 2, 'Chelsea': 2, 'Mueller': 2, 'パ': 2, 'シュート': 2, '置き去り': 2, '相': 2, 'だけ': 2, 'ヤバ': 2, '̀': 2, 'N': 2, '24': 2, '22': 2, 't': 2, 'Awards': 2, '再び': 2, '大杉': 2, '漣': 2, 'について': 2, '報道': 2, 'Guns': 2, 'by': 2, '超': 2, 'PV': 2, '～': 2, 'Liga': 2, '情報': 2, 'Spekta': 2, 'Top': 2, 'Indonesian': 2, 'Idol': 2, 'NRA': 2, '検証': 2, 'なく': 2, 'なる': 2, 'Dhanush': 2, 'j': 2, 'hope': 2, 'Donald': 2, 'Your': 2, 'Breaks': 2, 'Internet': 2, 'Wreck': 2, 'lại': 2, 'ダウン': 2, '説': 2, '死ぬ': 2, '気': 2, 'ば': 2, '元': 2, 'Changed': 2, '電撃': 2, '結婚': 2, '相方': 2, 'ULTRA': 2, '１': 2, '０': 2, 'm': 2, 'IX': 2, 'INE': 2, 'WSHH': 2, 'Exclusive': 2, 'Madrid': 2, 'Theme': 2, 'Jimmy': 2, 'Monologue': 2, 'Walk': 2, 'Thor': 2, 'Ragnarok': 2, 'Colbert': 2, 'Primitive': 2, 'Technology': 2, 'Christopher': 2, 'Robin': 2, 'không': 2, 'GOT': 2, 'Look': 2, '行っ': 2, '誰': 2, '日本': 2, '選': 2, 'Man': 2, '71': 2, '秒': 2, 'LIFE': 2, 'Nintendo': 2, 'ドッキリ': 2, '玉': 2, 'my': 2, 'st': 2, '本当に': 2, 'ちゃん': 2, 'Everybody': 2, 'Hates': 2, 'ご': 2, '疑惑': 2, 'accident': 2, 'Leaves': 2, 'Least': 2, 'Bacon': 2, 'MotoGP': 2, 'Off': 2, 'Ultra': 2, 'なっ': 2, 'ガチ': 2, 'クイズ': 2, 'エア': 2, 'Cả': 2, 'Mắt': 2, 'Em': 2, 'Yêu': 2, 'Challenge': 2, '21': 2, 'presents': 2, 'Goles': 2, 'Amistoso': 2, 'Pentatonix': 2, 'Australian': 2, 'Prix': 2, '時間': 2, 'Bagel': 2, 'くれ': 2, 'サッカー': 2, 'ｗｗｗ': 2, '生放送': 2, 'あり': 2, 'Không': 2, '救い': 2, 'ヒカキン': 2, 'H': 2, '出演': 2, '物': 2, '見': 2, 'Vòng': 2, '2019': 2, '27': 2, 'goals': 2, 'Friendly': 2, '1080': 2, '⁉': 2, 'Ty': 2, 'Dolla': 2, 'ign': 2, 'French': 2, 'Montana': 2, '31': 2, 'FC': 2, 'Magic': 2, 'Vegan': 2, '!!【': 2, 'Welcome': 2, 'Liverpool': 2, 'Rudy': 2, 'やっ': 2, '記録': 2, 'YouTube': 2, 'VIP': 2, 'Salman': 2, 'Khan': 2, '隣': 2, 'AP': 2, '舞鶴': 2, '倒れ': 2, 'でも': 2, 'ドリンク': 2, 'かけ': 2, 'YOURSELF': 2, 'ワンピース': 2, '実写': 2, '化': 2, '決定': 2, 'LOSE': 2, 'MEME': 2, '👏': 2, 'Comeback': 2, 'Joven': 2, 'Olvido': 2, 'Pie': 2, 'Coachella': 2, 'AND': 2, '大量': 2, 'เมษายน': 2, 'たい': 2, '.)': 2, 'Comey': 2, 'サンドウィッチマン': 2, 'コント': 2, 'Logic': 2, '力': 2, 'San': 2, 'Antonio': 2, 'Spurs': 2, 'Japanese': 2, 'Take': 2, 'on': 2, 'KCON': 2, 'JAPAN': 2, 'x': 2, 'Cardi': 2, 'Wrong': 2, 'Out': 2, 'Cole': 2, '20180420': 2, 'Ariana': 2, 'Grande': 2, 'Tears': 2, 'Left': 2, 'Cry': 2, 'Wake': 2, 'Up': 2, '《': 2, '》': 2, 'NO': 2, '選手': 2, 'RIP': 2, 'Pho': 2, 'Hole': 2, 'Iran': 2, 'Deal': 2, 'Việt': 2, 'Đi': 2, 'Cười': 2, 'Vỡ': 2, 'Bụng': 2, 'Sanju': 2, 'Ranbir': 2, 'Kapoor': 2, 'Rajkumar': 2, 'Hirani': 2, 'Flipping': 2, 'Minutes': 2, 'Cast': 2, 'せ': 2, 'Ca': 2, 'Hay': 2, 'Nhất': 2, 'ビビット': 2, 'へ': 2, 'メンハ': 2, 'GOLDEN': 2, 'BUZZER': 2, 'BGT': 2, 'エンゼルス': 2, '号': 2, 'Real': 2, 'FORTNITE': 2, 'PGT': 2, 'Pork': 2, 'コメント': 2, '30': 2, 'キス': 2, '限界': 2, '–': 2, 'き': 2, 'Calvin': 2, 'Harris': 2, 'Kiss': 2, '可愛い': 2, 'ひょっこり': 2, 'はん': 2, '●': 2, 'May': 2, 'ME': 2, 'Christina': 2, 'Aguilera': 2, '一同': 2, '松岡': 2, 'ヤバイ': 2, '過去': 2, 'Hội': 2, '作っ': 2, 'チリ': 2, 'イチロー': 2, 'Toast': 2, 'VS': 2, 'МА': 2, 'DR': 2, '--': 2, 'RESUMEN': 2, 'GOLES': 2, '99': 2, 'Giuliani': 2, 'Fortnite': 2, 'Ninja': 2, 'His': 2, '現在': 2, '姿': 2, '48': 2, 'Performance': 2, 'Diplo': 2, 'And': 2, '직캠': 2, '×': 2, 'Released': 2, 'Hindi': 2, 'Dubbed': 2, 'Singh': 2, 'Nhanh': 2, 'Như': 2, 'Chớp': 2, 'Hương': 2, 'Pet': 2, 'Spaghetti': 2, 'WWE': 2, 'School': 2, 'They': 2, 'Độ': 2, '鉄腕': 2, 'DASH': 2, '福島': 2, 'する': 2, 'アメフト': 2, '監督': 2, 'June': 2, 'BBoom': 2, 'Film': 2, '!!': 2, 'え': 2, '前': 2, 'Boruto': 2, 'www': 2, 'Fries': 2, 'ついに': 2, 'Demi': 2, 'Lovato': 2, '180524': 2, 'Willy': 2, 'Wonka': 2, 'Cheesesteak': 2, '120': 2, '゚': 2, '王': 2, 'SHINee': 2, '샤이니': 2, 'Cooking': 2, 'Đại': 2, 'Make': 2, 'Ultimate': 2, 'Custom': 2, 'มิถุนายน': 2, 'Gourmet': 2, 'Quốc': 2, 'Biểu': 2, 'SPIDER': 2, 'TO': 2, '||': 2, '逃げる': 1, 'Spot': 1, '悲報': 1, '愛車': 1, 'BMW': 1, '大破': 1, 'しまい': 1, 'Wait': 1, 'Valencia': 1, 'Copa': 1, 'Course': 1, 'Throw': 1, 'Himself': 1, 'Military': 1, 'Parade': 1, 'Daily': 1, 'PHIM': 1, 'LẬT': 1, 'MẶT': 1, 'Hành': 1, 'Động': 1, 'Lý': 1, 'Production': 1, 'about': 1, 'Logan': 1, '霊媒': 1, 'お願い': 1, 'おじいちゃん': 1, '呼ん': 1, 'Meliodas': 1, 'Galand': 1, 'Nanatsu': 1, 'Taizai': 1, 'Imashime': 1, 'Fukkatsu': 1, 'AMV': 1, 'United': 1, 'Newcastle': 1, 'EXT': 1, '720': 1, 'p': 1, 'Milwaukee': 1, 'Bucks': 1, 'Miami': 1, 'Heat': 1, 'もしも': 1, '編集': 1, 'こと': 1, '考え': 1, '奴': 1, '虫眼鏡': 1, '白石': 1, '麻衣': 1, '天狗': 1, '態度': 1, 'Nogizaka': 1, 'Shiraishi': 1, 'Mai': 1, 'Ơn': 1, 'Giời': 1, 'Cậu': 1, 'Đây': 1, 'Rồi': 1, 'nói': 1, 'ăn': 1, 'cơm': 1, 'trước': 1, 'kẻng': 1, 'đáp': 1, 'đã': 1, 'héo': 1, 'Candy': 1, 'Pop': 1, 'Lying': 1, 'Punches': 1, '825': 1, 'KINGDOM': 1, 'HEARTS': 1, 'III': 1, '\\xa0': 1, 'テーマ': 1, 'ソング': 1, '記念': 1, 'Sporda': 1, 'Saygı': 1, 've': 1, 'Fair': 1, 'Play': 1, 'En': 1, 'Güzel': 1, 'Anları': 1, '•': 1, 'Крушение': 1, 'Ан': 1, '148': 1, 'сняла': 1, 'частная': 1, 'Камера': 1, 'Mirai': 1, 'Nagasu': 1, 'first': 1, 'woman': 1, 'land': 1, 'triple': 1, 'Axel': 1, '雪合戦': 1, '進化': 1, 'です': 1, '遅れる': 1, 'Juventus': 1, 'Peek': 1, 'Jay': 1, 'Rock': 1, 'Kendrick': 1, 'Lamar': 1, 'Future': 1, 'Blake': 1, 'Owe': 1, '直': 1, '播回看': 1, '：': 1, '中央': 1, '电视台': 1, '春': 1, '节联欢': 1, '晚会': 1, '完': 1, '整': 1, '版': 1, 'CCTV': 1, 'Spring': 1, 'Gala': 1, 'FRIENDZONE': 1, 'ANTHEM': 1, 'ショートプログラム': 1, '君子': 1, '豎子': 1, '笑う': 1, '怨嗟': 1, '故に': 1, 'Celebrity': 1, 'Weekend': 1, '飛ん': 1, 'ほえ': 1, '泣い': 1, '演技': 1, '事態': 1, '会場': 1, '起こる': 1, 'フィギュア': 1, '連覇': 1, '奇跡': 1, 'Slam': 1, 'Dunk': 1, 'Contest': 1, 'Saturday': 1, 'BOSS': 1, '154': 1, 'Bụi': 1, '흔한': 1, '한국': 1, '음료수를': 1, '마셔보고': 1, '깜짝': 1, '놀란': 1, '노르웨이': 1, '올림픽': 1, '스키선수들': 1, 'Chase': 1, 'Tag': 1, 'アクロバティック': 1, '鬼ごっこ': 1, 'ハンパ': 1, 'じゃ': 1, 'Made': 1, 'My': 1, 'Millions': 1, 'so': 1, 'can': 1, '💰💰💰': 1, '비웃고': 1, '왕따': 1, '일으킨': 1, '인성': 1, '팀추월': 1, '현재': 1, '상황': 1, '빙상연맹': 1, '폭로': 1, 'Hart': 1, 'Leads': 1, 'Introductions': 1, 'Gabriella': 1, 'Papadakis': 1, 'Guillaume': 1, 'Cizeron': 1, 'European': 1, 'Championships': 1, 'SD': 1, 'ESP': 1, '裏': 1, 'スターター': 1, '号砲': 1, 'タイミング': 1, 'ネット': 1, '物議': 1, '500': 1, 'ｍ': 1, '女子': 1, 'スピード': 1, 'スケート': 1, 'オリンピック': 1, '星野': 1, '源': 1, 'ドラえもん': 1, 'MUSIC': 1, '特典': 1, 'DVD': 1, 'Justice': 1, '진심으로': 1, '사과드립니다': 1, '결국': 1, '눈물로': 1, '사죄': 1, '기자회견': 1, '풀영상': 1, 'SBS': 1, 'Football': 1, 'Soccer': 1, '따돌리는': 1, '·': 1, '박지우': 1, '모습에': 1, '제갈성렬': 1, '배성재가': 1, '날린': 1, '일침': 1, 'Twitter': 1, 'Spree': 1, 'After': 1, 'Russia': 1, 'Indictments': 1, 'IDGAF': 1, 'Charli': 1, 'XCX': 1, 'Zara': 1, 'Larsson': 1, 'MØ': 1, 'Alma': 1, 'Lounge': 1, '親友': 1, '李': 1, '花': 1, 'メディア': 1, '話し': 1, '言葉': 1, '止まら': 1, 'mayu': 1, 'Billionaire': 1, 'Bill': 1, 'Gates': 1, 'Guesses': 1, 'Grocery': 1, 'Store': 1, 'Prices': 1, 'HTV': 1, 'VI': 1, 'YÊU': 1, 'MA': 1, 'ĐÊ': 1, '́': 1, 'Cuộc': 1, 'đời': 1, 'em': 1, 'vì': 1, 'anh': 1, 'mà': 1, 'rẽ': 1, 'ngang': 1, 'VYMD': 1, 'Kids': 1, 'From': 1, 'Florida': 1, 'Aren': 1, 'Acting': 1, 'Rules': 1, 'BRIT': 1, 'BRAND': 1, 'NEW': 1, 'GIRL': 1, 'ゴチメンバー': 1, '望ん': 1, '思い': 1, 'Schools': 1, 'HAVANA': 1, 'PENTATONIX': 1, 'Super': 1, 'Cool': 1, 'Clothing': 1, 'Revamps': 1, 'Life': 1, 'Hacks': 1, 'Blossom': 1, 'DIE': 1, 'ドラゴン': 1, 'ボール': 1, '宇宙': 1, 'サバイバル': 1, '身勝手': 1, '極意': 1, '発動': 1, 'Girona': 1, 'たけし': 1, '急逝': 1, 'days': 1, 'Baby': 1, 'Don': 1, 'Stop': 1, 'GHEA': 1, 'AKU': 1, 'CINTA': 1, 'KAU': 1, 'DAN': 1, 'DIA': 1, 'Ahmad': 1, 'Band': 1, 'IF': 1, 'DONT': 1, 'LIKE': 1, 'AMY': 1, 'SCHUMER': 1, 'THEN': 1, 'ARE': 1, '....': 1, 'Members': 1, 'Are': 1, 'Losing': 1, 'Perks': 1, 'ハ': 1, 'ンシ': 1, 'ーシ': 1, 'ャンフ': 1, '゚は': 1, 'やれ': 1, '怖く': 1, '米津': 1, '玄': 1, 'Lemon': 1, '山中': 1, '慎': 1, '介': 1, 'ルイスネリ': 1, '前日': 1, '計量': 1, 'Kaala': 1, 'Tamil': 1, 'Rajinikanth': 1, 'Pa': 1, 'Ranjith': 1, 'Santhosh': 1, 'Narayanan': 1, 'Daydream': 1, '백일몽': 1, 'Coming': 1, 'For': 1, 'Thách': 1, 'thức': 1, 'danh': 1, 'hài': 1, 'tập': 1, 'full': 1, 'Cô': 1, 'gái': 1, 'mặt': 1, 'bất': 1, 'biến': 1, 'gây': 1, 'bão': 1, 'khi': 1, 'ẵm': 1, 'liền': 1, 'tay': 1, '150': 1, 'triệu': 1, 'ベッド': 1, '結局': 1, 'Chris': 1, 'Brown': 1, 'Tempo': 1, '食い': 1, '焼肉': 1, '屋': 1, '食べ': 1, '放題': 1, 'なれ': 1, '取れ': 1, 'Radically': 1, 'Economy': 1, 'Because': 1, 'He': 1, 'Could': 1, 'モニタリング': 1, 'もし': 1, '王者': 1, '銀': 1, 'シャリ': 1, '橋本': 1, '小松': 1, '菜奈': 1, '芸人': 1, '辞める': 1, '言い': 1, '出し': 1, '鰻': 1, '20180301': 1, 'GOKU': 1, 'MASTERS': 1, 'INSTINCT': 1, '129': 1, 'Subs': 1, '流行': 1, '叩き': 1, 'まくる': 1, 'すごい': 1, 'らしい': 1, 'DREAM': 1, '드림': 1, 'GO': 1, 'Billy': 1, 'Atletico': 1, 'Jodie': 1, 'Foster': 1, 'Jennifer': 1, 'Lawrence': 1, 'Present': 1, 'Oscar': 1, 'Actress': 1, 'Nominees': 1, '약속해요': 1, \".)'\": 1, 'Special': 1, 'Track': 1, 'Kimmel': 1, 'Oscars': 1, 'Mary': 1, 'Poppins': 1, 'Returns': 1, 'Longest': 1, 'LEGO': 1, 'MARIA': 1, 'NEVER': 1, 'ENOUGH': 1, 'Loren': 1, 'Allred': 1, 'Mad': 1, 'Queens': 1, 'Responds': 1, 'Devin': 1, 'Nunes': 1, 'Lime': 1, '脳': 1, '発達': 1, '障害': 1, '마마무': 1, 'MAMAMOO': 1, '별이': 1, '빛나는': 1, '밤': 1, 'Starry': 1, 'night': 1, 'Espanyol': 1, 'Penalty': 1, 'Shootout': 1, 'Catalan': 1, 'Cup': 1, 'Brooklyn': 1, 'Nets': 1, 'Camila': 1, 'Cabello': 1, 'Never': 1, 'Be': 1, 'Same': 1, 'Thì': 1, 'ra': 1, 'đi': 1, 'Siêu': 1, 'Xe': 1, 'sướng': 1, 'như': 1, 'mọi': 1, 'người': 1, 'vẫn': 1, 'nghĩ': 1, 'Denver': 1, 'Nuggets': 1, 'ぐらんぷりで': 1, '紺野': 1, 'ぶる': 1, 'ま': 1, '濱田': 1, '祐太郎': 1, '審査': 1, '状況': 1, '伝える': 1, 'TOT': 1, 'JUV': 1, 'AC': 1, 'Milan': 1, 'Arsenal': 1, 'Alexa': 1, 'randomly': 1, 'laughing': 1, 'compilation': 1, '政府': 1, '要請': 1, '経済': 1, '産業': 1, '省': 1, '官僚': 1, '呼び出さ': 1, 'ので': 1, '触れ': 1, '闇': 1, 'Return': 1, 'Whiteface': 1, 'smile': 1, 'Glico': 1, '／': 1, 'SECOND': 1, 'Switch': 1, '乱闘': 1, 'スマッシュブラザーズ': 1, '登場': 1, 'ボルト': 1, '充電': 1, '机': 1, '置い': 1, 'おく': 1, 'ww': 1, '新曲': 1, 'サヨナラ': 1, 'また': 1, 'Fischer': 1, 'FlipTop': 1, 'Sinio': 1, 'Tipsy': 1, 'Shernan': 1, 'Zhayt': 1, 'DosPorDos': 1, 'do': 1, 'know': 1, 'how': 1, 'big': 1, 'mousepad': 1, 'EPISODE': 1, 'mixtape': 1, 'Shooting': 1, 'Cryptocurrencies': 1, '人工': 1, '肉': 1, 'SNS': 1, 'マス': 1, '゙すぎると': 1, '噂': 1, 'まる': 1, 'ナケ': 1, 'マズ': 1, 'い': 1, '確かめ': 1, '稲村': 1, '亜美': 1, '理性': 1, '野球': 1, '男児': 1, '襲わ': 1, '西成': 1, 'あい': 1, 'りん': 1, '地区': 1, 'ホームレス': 1, '千': 1, 'ヌ': 1, 'くお': 1, '追跡': 1, 'Taylor': 1, 'Swift': 1, 'Delicate': 1, 'Hungry': 1, 'Leave': 1, 'Power': 1, 'Games': 1, 'Rex': 1, 'Tillerson': 1, 'Alternative': 1, '゙ゆ': 1, '北斗': 1, '拳': 1, '原': 1, '哲夫': 1, '先生': 1, '描く': 1, '◯◯': 1, '全員': 1, '世紀': 1, '末': 1, '9000': 1, 'W': 1, 'ジェットバス': 1, '泡': 1, 'ブチ': 1, '込む': 1, 'BOWLING': 1, 'BALL': 1, 'TRAMPOLINE': 1, '45': 1, 'はじめ': 1, '国民': 1, '的': 1, 'スーパー': 1, 'アイドル': 1, '囲ま': 1, 'wwwwwww': 1, 'Gudauri': 1, 'Ski': 1, 'Lift': 1, 'Ten': 1, 'injured': 1, 'Rossi': 1, 'Masih': 1, 'Berani': 1, 'Losail': 1, 'Qatar': 1, 'Maret': 1, 'Powered': 1, 'Jiren': 1, 'Knocks': 1, 'Mastered': 1, 'Instinct': 1, 'Goku': 1, 'Frieza': 1, 'Subbed': 1, '130': 1, 'ski': 1, 'lift': 1, 'gudauri': 1, 'Migos': 1, 'Talk': 1, '話題': 1, 'インタビュー': 1, 'まとめ': 1, '打線': 1, 'BOOMERANG': 1, '부메랑': 1, '問': 1, '正解': 1, '獲得': 1, '＄': 1, 'ミリオン': 1, 'Mike': 1, 'Pence': 1, 'Khóc': 1, 'Sưng': 1, 'Việc': 1, 'Công': 1, 'Khai': 1, 'Try': 1, 'Not': 1, 'Laugh': 1, '除': 1, '霊': 1, 'わかっ': 1, '真実': 1, '怖': 1, 'マホト': 1, 'UUUM': 1, '加入': 1, '!?!?': 1, 'DAY': 1, 'Francia': 1, 'Colombia': 1, 'Attention': 1, 'Qualifying': 1, 'NOGIZAKA': 1, 'Anniversary': 1, 'すく': 1, '消し': 1, 'JM': 1, 'Bayot': 1, 'Smoke': 1, 'GREENTEXT': 1, 'MEMES': 1, 'ไทย': 1, 'สโลวะเกีย': 1, 'คู่ชิงชนะเลิศ': 1, 'ฟุตบอลคิงส์คัพครั้งที่': 1, 'Así': 1, 'fue': 1, 'el': 1, 'épico': 1, 'capítulo': 1, 'final': 1, '131': 1, 'Reacción': 1, 'grupal': 1, 'en': 1, 'México': 1, 'WeroKing': 1, '拠点': 1, '探し': 1, 'アバンティーズ': 1, 'ジャングルジム': 1, '人数': 1, 'リアル': 1, 'テーブル': 1, '特製': 1, '晩': 1, 'ご飯': 1, '作り': 1, '最後': 1, 'HOT': 1, 'Mệt': 1, 'Mỏi': 1, 'Muốn': 1, 'GặpTrường': 1, 'Mặc': 1, 'Dù': 1, 'Xuất': 1, 'Hiện': 1, 'Trên': 1, 'Cùng': 1, 'Một': 1, 'Sân': 1, 'Khấu': 1, '箱': 1, '開け': 1, '！#': 1, '怒ら': 1, '“': 1, '聞い': 1, 'すら': 1, 'ちゃ': 1, 'いけ': 1, '話': 1, '｜': 1, 'ぎやはぎの': 1, 'テレビ': 1, '♯': 1, '60': 1, 'ほど': 1, '美容': 1, 'グッズ': 1, 'くらい': 1, '使い': 1, 'がち': 1, 'Trực': 1, 'Tiếp': 1, 'VietNam': 1, 'Jordan': 1, 'Loại': 1, 'Asian': 1, 'cup': 1, 'Spain': 1, 'Argentina': 1, 'ダラケ': 1, 'シーズン': 1, 'アルティメットバスケ': 1, '超絶': 1, 'ハード': 1, '楽しかっ': 1, 'SLAV': 1, 'Pities': 1, 'Fool': 1, '漂流': 1, 'もの': 1, '存在': 1, 'TVXQ': 1, '동방신기': 1, '운명': 1, 'Chance': 1, 'Germany': 1, 'Brazil': 1, 'タ': 1, 'ウン': 1, 'クロ': 1, '不摂生': 1, '生活': 1, '原因': 1, '型': 1, '糖尿': 1, '病': 1, '遭難': 1, '洞窟': 1, '暗': 1, '視': 1, 'カメラ': 1, '放置': 1, 'Tyler': 1, 'Creator': 1, 'OKRA': 1, 'Lucas': 1, 'Spider': 1, 'Encore': 1, 'Tinashe': 1, 'So': 1, 'Bad': 1, 'Sevilla': 1, 'y': 1, '打ち上げ花火': 1, '威力': 1, '凄まじかっ': 1, 'Zlatan': 1, 'Back': 1, 'Ibrahimovic': 1, 'LA': 1, 'Galaxy': 1, 'Los': 1, 'Angeles': 1, 'Highlight': 1, 'Jepthah': 1, 'Wow': 1, 'Callitong': 1, '135': 1, 'モンストニュース': 1, 'ぱっちょとぱなえが': 1, 'パワーアップ': 1, 'ニュース': 1, '届け': 1, '獣': 1, '神化': 1, 'モン': 1, 'スト': 1, 'Immigration': 1, 'Courts': 1, 'EXID': 1, '이엑스아이디': 1, ')]': 1, '내일해': 1, 'LADY': 1, '뮤직': 1, '비디오': 1, 'Jumanji': 1, 'Jungle': 1, 'UCL': 1, 'WINNER': 1, '‘': 1, 'EVERYDAY': 1, 'April': 1, 'Racist': 1, 'Superman': 1, 'Mancuso': 1, 'Alesso': 1, 'Bach': 1, '出': 1, 'Philip': 1, 'DeFranco': 1, 'Sets': 1, 'Record': 1, 'While': 1, 'Eating': 1, 'Spicy': 1, 'Wings': 1, 'Hot': 1, 'Ones': 1, 'treatment': 1, 'jail': 1, 'Jodhpur': 1, 'DIG': 1, 'Prisons': 1, 'iPhone': 1, '着信': 1, '部屋': 1, '生': 1, '演奏': 1, 'ついつい': 1, '携帯': 1, 'ちゃう': 1, '水': 1, 'Rocky': 1, 'Forever': 1, 'Moby': 1, '大相撲': 1, '場所': 1, '市長': 1, '救命': 1, '土俵': 1, '降り': 1, '下さい': 1, 'アナウンス': 1, '本塁打': 1, 'ベンチ': 1, '無視': 1, '頭': 1, 'られる': 1, 'Shohei': 1, 'Ohtani': 1, 'Euphoria': 1, '起': 1, 'Wonder': 1, 'シンクロニシティ': 1, 'カオス': 1, '工藤': 1, '新一': 1, 'キャスト': 1, '女': 1, '予想': 1, 'ナミ': 1, '満場一致': 1, 'GROOVE': 1, '試合': 1, '連続': 1, 'OCEAN': 1, 'Main': 1, 'Ăn': 1, 'Tối': 1, 'HÀNG': 1, 'CHỤC': 1, 'TRIỆU': 1, 'ĐỒNG': 1, 'Có': 1, 'Tiền': 1, 'Trả': 1, 'Phải': 1, 'Mượn': 1, 'BB': 1, 'Trần': 1, 'Và': 1, 'Triều': 1, '20180413': 1, 'KIDS': 1, 'DROP': 1, 'THEIR': 1, 'PHONES': 1, 'REASON': 1, 'WHY': 1, 'WILL': 1, 'SHOCK': 1, 'REVIEW': 1, 'Stage': 1, '?,': 1, '왓': 1, '이즈': 1, '러브': 1, 'core': 1, '20180414': 1, '250': 1, 'Episode': 1, 'MasterChef': 1, 'Thailand': 1, 'มาสเตอร์เชฟประเทศไทย': 1, 'Channel': 1, 'BEYONCÉ': 1, 'DESTINY': 1, 'CHILD': 1, 'REUNION': 1, 'COACHELLA': 1, 'PERFORMANCE': 1, 'アプリ': 1, '入手': 1, '方法': 1, 'Corporate': 1, 'Taxes': 1, 'TERRIFIED': 1, 'Beyoncé': 1, 'Epic': 1, 'Opening': 1, 'Crazy': 1, 'THAILAND': 1, '佐藤': 1, '仁美': 1, 'キロ': 1, '減量': 1, '成功': 1, '美': 1, 'くびれ': 1, '披露': 1, 'モテ': 1, 'RIZAP': 1, 'TVCM': 1, '＆': 1, 'メイキング': 1, 'ONCE': 1, 'Ver': 1, '嫌がらせ': 1, 'トマト': 1, '連絡': 1, 'くるん': 1, 'けど': 1, 'Compared': 1, 'Mafia': 1, 'Boss': 1, 'JBJ': 1, 'Call': 1, 'Name': 1, '부를게': 1, '写真': 1, '館': 1, 'Everyday': 1, '科学': 1, '159': 1, 'Đối': 1, 'Diện': 1, 'Thần': 1, 'Chết': 1, 'American': 1, 'Sushi': 1, '警告': 1, '明日': 1, '南海': 1, 'トラフ': 1, '死に': 1, '都市': 1, '伝説': 1, 'LSSC': 1, 'Uncut': 1, 'Interview': 1, '빅스': 1, 'VIXX': 1, '향': 1, 'Scentist': 1, 'INTRO': 1, '+': 1, 'ㅣ': 1, 'COUNTDOWN': 1, '180419': 1, '567': 1, 'Jurassic': 1, 'Fallen': 1, 'Kingdom': 1, 'Showed': 1, 'Ellen': 1, 'She': 1, 'Pregnant': 1, 'Meg': 1, 'Jason': 1, 'Statham': 1, 'Ruby': 1, 'Rose': 1, 'Megalodon': 1, 'Shark': 1, 'Becky': 1, 'Natti': 1, 'Natasha': 1, 'Sin': 1, 'Pijama': 1, 'Starbucks': 1, 'Kicked': 1, 'People': 1, 'đụng': 1, 'tới': 1, 'tôi': 1, 'để': 1, 'cô': 1, 'ấy': 1, 'yên': 1, 'ổn': 1, 'Nguồn': 1, 'Zing': 1, 'vn': 1, 'Round': 1, 'hut': 1, 'ATM': 1, 'Drew': 1, 'Somebody': 1, '映画': 1, 'BLEACH': 1, '最新': 1, '予告': 1, '金': 1, '公開': 1, 'BREAKING': 1, 'TMZ': 1, '陈赫': 1, 'Selina': 1, '爱相杀': 1, '郑恺昆': 1, '凌': 1, '默契搭': 1, '档竟被': 1, '鹿': 1, '晗蓝盈': 1, '莹': 1, 'PK': 1, '奔跑吧': 1, 'Keep': 1, 'Running': 1, '浙江': 1, '卫视官': 1, '方': 1, 'NANATSU': 1, 'TAIZAI': 1, 'IMASHIME': 1, 'FUKKATSU': 1, 'SUB': 1, 'ESPAÑOL': 1, 'バスケドッキリ': 1, '黒人': 1, '実は': 1, '雑魚': 1, '全国': 1, '経験': 1, 'プレイヤー': 1, '一番': 1, '外し': 1, '買取': 1, '目利き': 1, '養え': 1, 'オンエア': 1, '鑑定': 1, '団': 1, 'Katakuri': 1, 'Jinbe': 1, '833': 1, 'Songs': 1, '   ': 1, 'Thank': 1, 'your': 1, 'music': 1, '🖤': 1, '68': 1, 'Utah': 1, 'Jazz': 1, 'Bomb': 1, 'Civilizations': 1, 'Chỉ': 1, 'có': 1, 'ở': 1, 'xem': 1, 'phòng': 1, 'trọ': 1, 'xin': 1, 'Tắm': 1, 'nhờ': 1, 'luôn': 1, '金持ち': 1, '貧乏人': 1, '行動': 1, '違い': 1, '６': 1, 'Heart': 1, 'Rumors': 1, 'Cohen': 1, 'Everything': 1, 'With': 1, 'Or': 1, 'Less': 1, 'Reveals': 1, 'Trustworthy': 1, 'Avenger': 1, '狼': 1, '犬': 1, '生首': 1, '動き出す': 1, '片手': 1, 'ダンク': 1, 'バク': 1, '宙': 1, '自衛隊': 1, 'ラファエル': 1, '樹立': 1, 'Sings': 1, 'Bunch': 1, ')\\u3000': 1, '挙げ': 1, 'Nhạc': 1, 'Ngắm': 1, 'Hoa': 1, 'Lệ': 1, 'Rơi': 1, 'Châu': 1, 'Khải': 1, 'Phong': 1, 'Dung': 1, 'Doll': 1, 'Cổ': 1, 'Trang': 1, '騒動': 1, 'Ed': 1, 'Sheeran': 1, 'Happier': 1, 'ZIP': 1, 'ファミリー': 1, '扱い': 1, '酷い': 1, '非難': 1, '本人': 1, '呼': 1, 'ひ': 1, '゙あげて': 1, '法則': 1, '桝太一': 1, '20180427': 1, 'アニメ': 1, '進撃': 1, '巨人': 1, 'Jack': 1, 'Tim': 1, 'receive': 1, 'Simon': 1, 'Cowell': 1, 'フィッシャーズ': 1, 'ステ': 1, '先制': 1, 'ヤンキース': 1, 'life': 1, 'DINNER': 1, 'Kluna': 1, 'Tik': 1, 'Dinner': 1, 'ASMR': 1, 'eating': 1, 'sounds': 1, 'vida': 1, 'real': 1, 'Echtes': 1, 'Leben': 1, 'Kristel': 1, 'De': 1, 'Catalina': 1, 'Winner': 1, '715': 1, '怒り': 1, '警察官': 1, 'がかり': 1, '刑務所': 1, '逃走': 1, '確保': 1, '瞬間': 1, '言及': 1, '当日': 1, '朝': 1, '番組': 1, '収録': 1, '様子': 1, 'ワイド': 1, 'ショー': 1, '前園': 1, '呼ば': 1, '松本': 1, '人志': 1, '難関': 1, 'SASUKE': 1, 'よう': 1, 'しんど': 1, '突破': 1, 'C': 1, 'F': 1, 'Osaka': 1, 'Other': 1, 'On': 1, 'Michelle': 1, 'Wolf': 1, 'WHCD': 1, 'Speech': 1, 'Mean': 1, 'Tweets': 1, 'Edition': 1, 'めぐみ': 1, 'オープンカー': 1, 'ドライブ': 1, 'wwwww': 1, '903': 1, 'Raw': 1, 'Ant': 1, 'Wasp': 1, 'ゃべくり': 1, '007': 1, '泰造': 1, '面白い': 1, 'ジャニー': 1, '申し訳': 1, '本能寺': 1, '変': 1, 'ダンス': 1, '人気': 1, '男': 1, '書類': 1, '送検': 1, 'Roma': 1, 'Céline': 1, 'Dion': 1, 'Ashes': 1, 'Motion': 1, 'Picture': 1, 'Soundtrack': 1, 'MARVEL': 1, 'INFINITY': 1, 'WARS': 1, 'DISINTEGRATION': 1, 'MAKES': 1, 'HAHA': 1, '辞め': 1, '土下座': 1, '辞表': 1, '提出': 1, '緊急': 1, 'Accelerate': 1, 'Chainz': 1, '未来': 1, '江原': 1, '啓之': 1, '予言': 1, '的中': 1, 'オーラ': 1, '泉': 1, 'にて': 1, '言い放っ': 1, '厳しい': 1, '一言': 1, 'ヒ': 1, 'ート': 1, 'たけ': 1, '持論': 1, '展開': 1, '坂上': 1, '忍': 1, '中条': 1, 'きよし': 1, '相違': 1, '意見': 1, '交わす': 1, 'キレ': 1, '足立': 1, '佳奈': 1, 'なに': 1, '速': 1, '5094': 1, 'ｼﾝﾃﾞﾚﾗｶﾞｰﾙ': 1, 'どよめか': 1, 'す': 1, '阪神': 1, '横浜': 1, 'DeNA': 1, '始球': 1, '式': 1, '球場': 1, '今': 1, '巨大': 1, '大変': 1, '４': 1, 'による': 1, 'Nicki': 1, 'Minaj': 1, 'Chun': 1, 'Li': 1, '床屋': 1, '｢': 1, 'おまかせ': 1, '｣': 1, '繰り返し': 1, '目': 1, '坊主': 1, 'Donchez': 1, 'bags': 1, 'his': 1, 'Wiggle': 1, 'Wine': 1, 'Thánh': 1, 'Đức': 1, 'Chúa': 1, 'Trời': 1, 'Bố': 1, 'Mới': 1, '鈴': 1, '服': 1, '平が': 1, 'Ichiro': 1, '挨拶': 1, '訪れ': 1, '逃げ出す': 1, '笑': 1, 'Jerez': 1, 'Spanyol': 1, 'Mei': 1, 'Rời': 1, 'Bỏ': 1, 'ВА': 1, 'С': 1, 'HIGHLIGHTS': 1, 'GOALS': 1, 'Vinesmokes': 1, 'Daifuku': 1, '835': 1, 'Extremeley': 1, 'Satisfying': 1, 'Compilation': 1, '٪': 1, 'will': 1, 'be': 1, 'satisfied': 1, '人間': 1, '全力': 1, '本気': 1, '...！？': 1, 'At': 1, 'SNL': 1, 'ElClásico': 1, '轉': 1, 'Tear': 1, 'Singularity': 1, '127': 1, 'Chain': 1, 'Says': 1, 'Will': 1, 'Get': 1, 'Facts': 1, 'Straight': 1, '絶句': 1, '芸能': 1, '界': 1, '三': 1, '代目': 1, 'Soul': 1, 'Brothers': 1, 'EXILE': 1, 'TRIBE': 1, '恋': 1, '愛': 1, 'We': 1, 'DNA': 1, 'Test': 1, 'Ignores': 1, 'Allies': 1, 'PRODUCE': 1, '최초공개': 1, '프로듀스': 1, '내꺼야': 1, 'PICK': 1, '180615': 1, '真': 1, '黒幕': 1, 'により': 1, '判明': 1, '同': 1, '今後': 1, 'LSD': 1, 'Sia': 1, 'Labrinth': 1, 'DISGUSTING': 1, 'Huge': 1, 'Scam': 1, 'Exposed': 1, 'Spotify': 1, 'Crackdown': 1, 'Stirs': 1, 'ix': 1, 'ine': 1, 'Debate': 1, 'Jake': 1, '180426': 1, '걸크러쉬': 1, 'Girl': 1, 'Crush': 1, 'cover': 1, '떨려요': 1, '보미': 1, '생명존중': 1, '행복나눔': 1, '뉴타': 1, 'KPOP': 1, 'JS': 1, 'fancam': 1, 'Hidden': 1, 'Meanings': 1, 'Behind': 1, 'Explained': 1, 'Predator': 1, 'Century': 1, 'FOX': 1, 'ソロ': 1, 'ツインズ': 1, 'BÍCH': 1, 'PHƯƠNG': 1, 'Bùa': 1, '水泳': 1, '対決': 1, 'Clash': 1, 'Royale': 1, 'Meet': 1, 'Rascals': 1, 'Card': 1, '!)': 1, 'Fake': 1, 'INDIA': 1, 'Hebbuli': 1, 'Sudeep': 1, 'Amala': 1, 'Kabir': 1, 'Duhan': 1, 'Bất': 1, 'Ngờ': 1, 'Sự': 1, 'Ngây': 1, 'Ngô': 1, 'Lan': 1, 'FAP': 1, 'RUN': 1, 'NOW': 1, '143': 1, '割り込ん': 1, 'ドーーーーン': 1, 'Roman': 1, 'Reigns': 1, 'Triple': 1, 'Championship': 1, 'Wrestlemania': 1, '32': 1, 'STUDENT': 1, 'HACKS': 1, 'DIYs': 1, 'Edible': 1, 'Supplies': 1, 'Weird': 1, 'Ways': 1, 'Food': 1, 'Into': 1, 'Class': 1, 'Workers': 1, 'Thought': 1, 'd': 1, 'Found': 1, 'Muddy': 1, 'Puppy': 1, 'But': 1, 'Cleaned': 1, 'Cutest': 1, 'Surprise': 1, 'Quỳ': 1, 'Lạy': 1, 'Lầy': 1, 'Lội': 1, 'Mạc': 1, 'Văn': 1, 'Khoa': 1, '方々': 1, 'リーダー': 1, '行く': 1, '悪質': 1, 'ラフプレー': 1, '激怒': 1, '💢😠💢': 1, '怠慢': 1, 'バレンティン': 1, '大雨': 1, '中止': 1, 'なら': 1, 'やる気': 1, '徒歩': 1, '捕': 1, '球': 1, '私': 1, '年間': 1, 'Amazon': 1, '買っ': 1, 'モノ': 1, '全部': 1, 'ましょ': 1, 'Bohemian': 1, 'Rhapsody': 1, 'Panther': 1, 'Roots': 1, 'Sing': 1, 'Labo': 1, 'Instruments': 1, 'Remo': 1, 'Dsouza': 1, 'Releasing': 1, 'ThisEID': 1, 'Chi': 1, 'Pu': 1, 'ĐÓA': 1, 'HOA': 1, 'HỒNG': 1, 'QUEEN': 1, 'Version': 1, 'Sean': 1, 'Hannity': 1, 'Puts': 1, 'President': 1, 'Bed': 1, 'Each': 1, 'MOMOLAND': 1, '.-」': 1, 'Mission': 1, 'Impossible': 1, 'Fallout': 1, 'Paramount': 1, 'Pictures': 1, 'Takes': 1, 'Thanos': 1, 'Was': 1, 'RIGHT': 1, '鳥': 1, 'おもちゃ': 1, '色々': 1, 'すげ': 1, 'wwwwwwwwww': 1, '疲れ': 1, '溜めよ': 1, '５': 1, 'ケンカ': 1, '寸前': 1, 'ヤンキー': 1, '達': 1, 'マジ': 1, 'うる': 1, 'レーザー': 1, 'タグ': 1, '圧倒的': 1, '強者': 1, 'ボコボコ': 1, 'やら': 1, 'Mitsuki': 1, 'Toroi': 1, 'Inojin': 1, 'Araya': 1, 'Sarada': 1, 'Win': 1, 'Seconds': 1, 'Chunin': 1, 'Exams': 1, 'Ep': 1, '58': 1, 'ぬいぐるみ': 1, '入っ': 1, '走る': 1, 'ツボ': 1, 'Xem': 1, 'Tận': 1, 'Mà': 1, 'Vẫn': 1, 'Méo': 1, 'Thể': 1, 'Tin': 1, 'Nổi': 1, 'Nữa': 1, 'BAR': 1, 'SOC': 1, '最終': 1, '７': 1, 'Billboard': 1, 'Lil': 1, 'Pump': 1, 'Zhavia': 1, 'Party': 1, 'Rehab': 1, '180520': 1, 'BBMA': 1, 'edit': 1, '정국': 1, 'JUNGKOOK': 1, 'FOCUS': 1, 'FANCAM': 1, 'Giant': 1, 'Darts': 1, 'Battle': 1, '犬鳴': 1, '村': 1, '地図': 1, '載ら': 1, '日本一': 1, 'スポット': 1, 'かっ': 1, 'Corden': 1, 'Explains': 1, 'Resting': 1, 'Royal': 1, 'Wedding': 1, 'Face': 1, 'MOWGLI': 1, 'Fall': 1, 'Line': 1, 'ZAYN': 1, 'Entertainer': 1, 'HIGHLIGHT': 1, 'REEL': 1, 'Anpanman': 1, '│': 1, '全編': 1, '反則': 1, 'タックル': 1, '問題': 1, '日大': 1, '内田': 1, 'ら': 1, '23': 1, 'どこ': 1, '当地': 1, '土産': 1, '難し': 1, '発狂': 1, 'YouTuber': 1, 'バスケ': 1, '球技': 1, '大会': 1, '見事': 1, '優勝': 1, 'Р': 1, '00': 1, 'LL': 1, 'ОА': 1, 'LS': 1, 'ЄХТЄ': 1, 'ND': 1, 'Е': 1, 'Т': 1, '健康': 1, '精密': 1, '検査': 1, '必要': 1, 'なり': 1, 'Ticket': 1, 'SCAM': 1, 'Chocolate': 1, 'Factory': 1, 'еа': 1, 'Ма': 1, 'drid': 1, 'Liv': 1, 'е': 1, 'r': 1, 'роо': 1, 'll': 1, 'ighlights': 1, '26': 1, 'Tati': 1, 'Feat': 1, 'DJ': 1, 'SpinKing': 1, '166': 1, 'Chồng': 1, 'Tôi': 1, 'Mê': 1, 'Đá': 1, 'Banh': 1, 'ユーチューハ': 1, 'ースホ': 1, 'ーツ': 1, '運動': 1, '神経': 1, 'いい': 1, '!?【': 1, 'てつ': 1, 'や': 1, 'ハイライト': 1, 'レアルマドリード': 1, 'リバプール': 1, 'UEFA': 1, 'チャンピオンズ': 1, 'リーグ': 1, '決勝': 1, 'CHOREOGRAPHY': 1, '広辞苑': 1, '使っ': 1, 'しり': 1, 'とり': 1, '終わる': 1, '데리러': 1, '가': 1, 'Good': 1, 'Evening': 1, '速報': 1, 'AirPods': 1, 'アマゾン': 1, '800': 1, '売ら': 1, 'WOW': 1, 'Roseanne': 1, 'Canceled': 1, 'Tweet': 1, 'PUBG': 1, 'Sues': 1, 'Puerto': 1, 'Rico': 1, 'GS': 1, 'Malian': 1, 'hero': 1, 'scales': 1, 'Paris': 1, 'building': 1, 'save': 1, 'child': 1, '遊戯': 1, 'カート': 1, '゙が': 1, '無い': 1, 'birthday': 1, 'wife': 1, 'AOA': 1, 'Bingle': 1, 'Bangle': 1, '빙글뱅글': 1, '注目': 1, '新星': 1, 'モデル': 1, 'Kōki': 1, 'デビュー': 1, 'Girls': 1, 'Like': 1, 'Gorillaz': 1, 'Humility': 1, 'Clean': 1, 'Bandit': 1, 'Solo': 1, 'feat': 1, '167': 1, 'Học': 1, 'JR': 1, 'Smith': 1, 'Ruined': 1, 'Legacy': 1, 'Cavs': 1, 'INSANE': 1, 'OneRepublic': 1, 'Start': 1, 'Again': 1, 'Tawag': 1, 'ng': 1, 'Tanghalan': 1, 'Janine': 1, 'Berdin': 1, 'Bamboo': 1, 'Medley': 1, 'Went': 1, 'Japan': 1, 'Most': 1, 'Difficult': 1, 'Omelet': 1, 'ZHU': 1, 'Remix': 1, 'アカペラ': 1, '採点': 1, 'バトル': 1, '高': 1, '得点': 1, '連発': 1, '怖い': 1, '来': 1, 'Dancing': 1, 'Without': 1, 'Moving': 1, 'Lalkar': 1, 'Velaiilla': 1, 'Pattadhari': 1, 'Kajol': 1, 'Peru': 1, 'Arabia': 1, 'Saudita': 1, 'Internacional': 1, 'BRA': 1, 'CRO': 1, '高級': 1, 'ドリアン': 1, 'そのまま': 1, 'ジュース': 1, 'しよ': 1, '臭': 1, 'STUMPED': 1, '켜줘': 1, 'Light': 1, '09': 1, 'はし': 1, '゙めしゃちょ': 1, '襲撃': 1, 'Guardianship': 1, 'Old': 1, 'Germa': 1, '66': 1, 'Transformation': 1, 'Vinsmokes': 1, 'mom': 1, 'Pirates': 1, '839': 1, 'Nguyễn': 1, 'Người': 1, 'Lạ': 1, 'Ơi': 1, 'Giấu': 1, 'Mặt': 1, 'Voice': 1, 'Giọng': 1, 'Hát': 1, '呪い': 1, 'スホ': 1, 'ット': 1, '帰っ': 1, '身体': 1, 'Pastry': 1, 'Chef': 1, 'Attempts': 1, 'Skittles': 1, 'Makes': 1, 'Bon': 1, 'Appétit': 1, 'BLACKPINK': 1, 'SQUARE': 1, 'UP': 1, 'ROSÉ': 1, 'MOVING': 1, 'POSTER': 1, 'WRECK': 1, 'IT': 1, 'RALPH': 1, 'LIL': 1, 'TAY': 1, 'Cho': 1, 'TQ': 1, 'Thuê': 1, 'Đất': 1, 'Năm': 1, 'Nín': 1, 'Lặng': 1, 'Bài': 1, 'Phát': 1, 'Dương': 1, 'Trung': 1, 'MAN': 1, 'INTO': 1, 'VERSE': 1, 'YEAR': 1, 'OLD': 1, 'CRIES': 1, 'OVER': 1, 'NOT': 1, 'GETTING': 1, '231': 1, '紀州': 1, 'ドンファン': 1, '相手': 1, 'ビデオ': 1, 'HOW': 1, 'TRAIN': 1, 'YOUR': 1, 'DRAGON': 1, '読書': 1, 'どんな': 1, 'POR': 1, 'ALG': 1, 'Afghanistan': 1, 'Bangladesh': 1, 'rd': 1, 'T': 1, 'Halloween': 1, 'Turn': 1, 'Stainless': 1, 'Steel': 1, 'Bolt': 1, 'into': 1, 'Beautiful': 1, 'little': 1, 'Hunting': 1, 'Knife': 1, 'Diệu': 1, 'Nhi': 1, 'Phấn': 1, 'Khích': 1, 'Cực': 1, 'Khi': 1, 'Elly': 1, 'Thắng': 1, 'Lớn': 1, 'Kar': 1, 'Har': 1, 'Maidaan': 1, 'Fateh': 1, 'Sukhwinder': 1, 'Shreya': 1, 'Ghoshal': 1, 'フェチ': 1, '凝縮': 1, '良い': 1, 'UGANDAN': 1, 'KNUCKLES': 1, 'LASAGNA': 1, 'Memes': 1, '蜂の巣': 1, '駆除': 1, '神': 1, 'バレ': 1, 'えっ': 1, 'ちゃんと': 1, 'どれ': 1, 'That': 1, 'EVERYTHING': 1, '방탄회식': 1, 'BTSFESTA': 1, 'LOGAN': 1, 'PAULS': 1, 'SISTER': 1, 'WANTS': 1, 'DO': 1, 'YOUTUBE': 1, 'Stupid': 1, 'Watergate': 1, 'II': 1, '兄弟': 1, 'カンタ': 1, 'Want': 1, 'Dhadak': 1, 'Janhvi': 1, 'Ishaan': 1, 'Shashank': 1, 'Khaitan': 1, 'Karan': 1, 'Johar': 1, 'Niro': 1, 'Fuck': 1, 'speech': 1, 'Tony': 1, 'awards': 1, 'E': 1, 'Monday': 1, 'PlayStation': 1, 'Ubisoft': 1, 'Todd': 1, 'Howard': 1, 'SOMEONE': 1, 'STOP': 1, 'THIS': 1, 'MADMAN': 1, 'Dennis': 1, 'Rodman': 1, 'gets': 1, 'emotional': 1, 'after': 1, 'Kim': 1, 'summit': 1, '企画': 1, '池': 1, '完成': 1, '決め': 1, 'NEWS': 1, '手越': 1, '未成年': 1, '飲酒': 1, 'パーティー': 1, 'なん': 1, 'てる': 1, 'わから': 1, '이재명': 1, '인터뷰': 1, '태도': 1, '논란의': 1, '진실은': 1, 'Dumbo': 1})\n"
     ]
    }
   ],
   "source": [
    "#形態素解析の適応\n",
    "\n",
    "list_tword = []\n",
    "for i in range(len(df_OneMillion)):\n",
    "    title = df_OneMillion.iloc[i,2]\n",
    "    for token in t.tokenize(title):\n",
    "        list_tword.append((token.surface))\n",
    "        c = collections.Counter(list_tword)\n",
    "print(c)"
   ]
  },
  {
   "cell_type": "code",
   "execution_count": 42,
   "metadata": {},
   "outputs": [],
   "source": [
    "#再生数が50万を超えている動画のみ\n",
    "dfprocessing = df[df[\"views\"]>500000]"
   ]
  },
  {
   "cell_type": "code",
   "execution_count": 64,
   "metadata": {},
   "outputs": [],
   "source": [
    "#該当した記号があるなら1,ないなら0とする\n",
    "\n",
    "buzz_word_Symbol = [\"【\",\"】\"]\n",
    "for i in buzz_word_Symbol:\n",
    "    dfprocessing.loc[dfprocessing['title'].str.contains(i),\"title_encode_Symbol\"] = 1\n",
    "dfprocessing.loc[dfprocessing['title_encode_Symbol'].isnull(),\"title_encode_Symbol\"] = 0"
   ]
  },
  {
   "cell_type": "code",
   "execution_count": 65,
   "metadata": {},
   "outputs": [],
   "source": [
    "#バズりやすい言葉があれば1,それ以外を0\n",
    "\n",
    "buzz_word = [\"2018\",\"Game\",\"vs\",\"Highlights\",\"Official\",\"HD\",\"Video\",\"山口\",\"All\",\"TOKIO\"]\n",
    "for n in buzz_word:\n",
    "    dfprocessing.loc[dfprocessing['title'].str.contains(n),\"title_encode_word\"] = 1\n",
    "dfprocessing.loc[dfprocessing['title_encode_word'].isnull(),\"title_encode_word\"] = 0"
   ]
  },
  {
   "cell_type": "code",
   "execution_count": 66,
   "metadata": {},
   "outputs": [
    {
     "data": {
      "text/plain": [
       "count    1083.000000\n",
       "mean       41.727608\n",
       "std        19.195382\n",
       "min         3.000000\n",
       "25%        27.000000\n",
       "50%        38.000000\n",
       "75%        55.000000\n",
       "max        97.000000\n",
       "Name: len_title, dtype: float64"
      ]
     },
     "execution_count": 66,
     "metadata": {},
     "output_type": "execute_result"
    }
   ],
   "source": [
    "#メッセージの長さ\n",
    "dfprocessing['len_title'] = dfprocessing['title'].apply(lambda x: len(str(x).replace(' ', '')))\n",
    "dfprocessing[\"len_title\"].describe()"
   ]
  },
  {
   "cell_type": "code",
   "execution_count": 67,
   "metadata": {},
   "outputs": [],
   "source": [
    "dfprocessing.loc[dfprocessing['len_title'] > 45,\"title_encode_len\"] = 2\n",
    "dfprocessing.loc[dfprocessing['len_title'] < 45 ,\"title_encode_len\"] = 1\n",
    "dfprocessing.loc[dfprocessing['len_title'] < 24,\"title_encode_len\"] = 0"
   ]
  },
  {
   "cell_type": "code",
   "execution_count": 68,
   "metadata": {},
   "outputs": [],
   "source": [
    "#100万再生なら1,違うなら0とする\n",
    "dfprocessing.loc[dfprocessing['views'] > 1000000,\"view_encode\"] = 1\n",
    "dfprocessing.loc[dfprocessing['view_encode'].isnull(),\"view_encode\"] = 0"
   ]
  },
  {
   "cell_type": "code",
   "execution_count": 69,
   "metadata": {},
   "outputs": [],
   "source": [
    "dfprocessing2 = dfprocessing[['title_encode_Symbol','title_encode_word','title_encode_len']]\n",
    "dfprocessing2 = dfprocessing2.fillna(0)"
   ]
  },
  {
   "cell_type": "code",
   "execution_count": 70,
   "metadata": {},
   "outputs": [],
   "source": [
    "#モデルの構築\n",
    "import numpy as np\n",
    "import numpy.random as random\n",
    "import scipy as sp\n",
    "from sklearn.model_selection import train_test_split\n",
    "from sklearn.metrics import confusion_matrix\n",
    "\n",
    "X = dfprocessing2\n",
    "Y = dfprocessing['view_encode']\n",
    "X_train, X_test, y_train, y_test = train_test_split(X, Y, random_state=0)"
   ]
  },
  {
   "cell_type": "code",
   "execution_count": 71,
   "metadata": {},
   "outputs": [
    {
     "name": "stdout",
     "output_type": "stream",
     "text": [
      "train score: 0.5714285714285714\n",
      "test score: 0.5350553505535055\n"
     ]
    }
   ],
   "source": [
    "#決定木\n",
    "\n",
    "from sklearn.tree import DecisionTreeClassifier\n",
    "from sklearn import tree\n",
    "\n",
    "# 決定木インスタンス(木の深さ3)\n",
    "model = DecisionTreeClassifier(max_depth=5)\n",
    "#学習モデル構築。引数に訓練データの特徴量と、それに対応したラベル\n",
    "model.fit(X_train, y_train)\n",
    "predicted = model.predict(X_test)\n",
    "\n",
    "# .scoreで正解率を算出。\n",
    "print(\"train score:\",model.score(X_train,y_train))\n",
    "print(\"test score:\",model.score(X_test,y_test))"
   ]
  },
  {
   "cell_type": "code",
   "execution_count": 72,
   "metadata": {},
   "outputs": [
    {
     "data": {
      "text/plain": [
       "array([[60, 51],\n",
       "       [75, 85]])"
      ]
     },
     "execution_count": 72,
     "metadata": {},
     "output_type": "execute_result"
    }
   ],
   "source": [
    "#混同行列の作成\n",
    "plot_cm = confusion_matrix(predicted,y_test)\n",
    "plot_cm"
   ]
  },
  {
   "cell_type": "code",
   "execution_count": 73,
   "metadata": {},
   "outputs": [
    {
     "data": {
      "text/plain": [
       "<matplotlib.axes._subplots.AxesSubplot at 0x1a18223588>"
      ]
     },
     "execution_count": 73,
     "metadata": {},
     "output_type": "execute_result"
    },
    {
     "data": {
      "image/png": "[encoded data removed]",
      "text/plain": [
       "<Figure size 432x288 with 2 Axes>"
      ]
     },
     "metadata": {
      "needs_background": "light"
     },
     "output_type": "display_data"
    }
   ],
   "source": [
    "#混同行列の可視化\n",
    "from sklearn.metrics import confusion_matrix\n",
    "import seaborn as sns\n",
    "import matplotlib.pyplot as plt\n",
    "\n",
    "sns.heatmap(plot_cm, annot=True, cmap='Reds')"
   ]
  },
  {
   "cell_type": "code",
   "execution_count": 74,
   "metadata": {},
   "outputs": [],
   "source": [
    "#決定木の出力\n",
    "with open('YouTube-dtree2.dot', mode='w') as f:\n",
    "    tree.export_graphviz(model, out_file=f)"
   ]
  },
  {
   "cell_type": "code",
   "execution_count": 75,
   "metadata": {},
   "outputs": [],
   "source": [
    "!dot -T png YouTube-dtree2.dot -o YouTube-dtree2.png\n",
    "!open YouTube-dtree2.png"
   ]
  },
  {
   "cell_type": "code",
   "execution_count": 76,
   "metadata": {},
   "outputs": [
    {
     "name": "stdout",
     "output_type": "stream",
     "text": [
      "train score: 0.5529556650246306\n",
      "test score: 0.5313653136531366\n"
     ]
    }
   ],
   "source": [
    "# サポートベクターマシン（SVM）\n",
    "from sklearn.svm import LinearSVC\n",
    "\n",
    "# SVMインスタンス\n",
    "model = LinearSVC()\n",
    "#学習モデル構築。引数に訓練データの特徴量と、それに対応したラベル\n",
    "model.fit(X_train, y_train)\n",
    "\n",
    "# .scoreで正解率を算出。\n",
    "print(\"train score:\",model.score(X_train,y_train))\n",
    "print(\"test score:\",model.score(X_test,y_test))"
   ]
  },
  {
   "cell_type": "code",
   "execution_count": null,
   "metadata": {},
   "outputs": [],
   "source": []
  }
 ],
 "metadata": {
  "kernelspec": {
   "display_name": "Python 3",
   "language": "python",
   "name": "python3"
  },
  "language_info": {
   "codemirror_mode": {
    "name": "ipython",
    "version": 3
   },
   "file_extension": ".py",
   "mimetype": "text/x-python",
   "name": "python",
   "nbconvert_exporter": "python",
   "pygments_lexer": "ipython3",
   "version": "3.6.6"
  }
 },
 "nbformat": 4,
 "nbformat_minor": 2
}
